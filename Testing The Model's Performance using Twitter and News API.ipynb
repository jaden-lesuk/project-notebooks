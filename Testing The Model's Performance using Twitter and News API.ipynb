{
 "cells": [
  {
   "cell_type": "markdown",
   "metadata": {},
   "source": [
    "# News API"
   ]
  },
  {
   "cell_type": "code",
   "execution_count": 1,
   "metadata": {},
   "outputs": [],
   "source": [
    "from stop_words import get_stop_words\n",
    "import re\n",
    "import requests\n",
    "import json\n",
    "import joblib\n",
    "import pandas as pd"
   ]
  },
  {
   "cell_type": "code",
   "execution_count": 2,
   "metadata": {},
   "outputs": [],
   "source": [
    "pipeline = joblib.load('./passagg.sav')"
   ]
  },
  {
   "cell_type": "code",
   "execution_count": 128,
   "metadata": {},
   "outputs": [
    {
     "name": "stdout",
     "output_type": "stream",
     "text": [
      "{'status': 'ok', 'totalResults': 3674, 'articles': [{'source': {'id': 'bbc-news', 'name': 'BBC News'}, 'author': None, 'title': 'Could a vaccine get rid of malaria for good?', 'description': 'Seventeen-year-old Victoline explores progress to tackle the disease in her home country, Kenya.', 'url': 'https://www.bbc.co.uk/news/av/world-africa-55859679', 'urlToImage': 'https://ichef.bbci.co.uk/images/ic/400xn/p095mj6r.jpg', 'publishedAt': '2021-01-31T00:02:57Z', 'content': 'Seventeen-year-old Victoline was hospitalised with malaria in 2017. She lives in Kenya, a country that sees around 3.5 million new clinical cases of the disease each year. She wants to know if a vacc… [+595 chars]'}, {'source': {'id': 'reuters', 'name': 'Reuters'}, 'author': 'Jeremy Schultz', 'title': 'Top Photos of the Day | Reuters.com - Reuters India', 'description': 'Giraffes stand next to each other inside the Nairobi National Park, Kenya.    REUTERS/Baz Ratner', 'url': 'https://in.reuters.com/news/picture/top-photos-of-the-day-idUSRTX8KMKW', 'urlToImage': 'https://s4.reutersmedia.net/resources/r/?m=02&d=20210106&t=2&i=1546799300&w=&fh=545&fw=810&ll=&pl=&sq=&r=2021-01-06T130812Z_37979_MRPRC2B2L93C1JD_RTRMADP_0_KENYA-ANIMALS', 'publishedAt': '2021-01-06T13:20:20Z', 'content': 'Reuters, the news and media division of Thomson Reuters, is the worlds largest international multimedia news provider reaching more than one billion people every day. Reuters provides trusted busines… [+229 chars]'}, {'source': {'id': 'bbc-news', 'name': 'BBC News'}, 'author': 'https://www.facebook.com/bbcnews', 'title': 'The Burundian refugee soap maker who is fighting coronavirus in Kenya', 'description': 'Chemistry student Innocent Havyarimana started a thriving business in a Kenyan refugee camp.', 'url': 'https://www.bbc.co.uk/news/world-africa-55545845', 'urlToImage': 'https://ichef.bbci.co.uk/news/1024/branded_news/11DAF/production/_116353137_bff0bfcc-3149-46fd-ad1f-d710e80df58e.jpg', 'publishedAt': '2021-01-09T00:23:23Z', 'content': 'By Fernando DuarteBBC World Service\\r\\nimage captionInnocent Havyarimana lowered the prices of his products when the pandemic struck\\r\\nWhen Innocent Havyarimana started his soap-making business in Kenya… [+6484 chars]'}, {'source': {'id': 'reuters', 'name': 'Reuters'}, 'author': 'Reuters Staff', 'title': 'Paris Club of international creditors accept Kenya debt relief request - Reuters', 'description': 'The Paris Club of international creditors said on Monday it had accepted a request from Kenya for a debt-servicing suspension from January to the end of June.', 'url': 'https://www.reuters.com/article/us-kenya-debt/paris-club-of-international-creditors-accept-kenya-debt-relief-request-idUSKBN29G1H7', 'urlToImage': 'https://s1.reutersmedia.net/resources_v2/images/rcom-default.png?w=800', 'publishedAt': '2021-01-11T13:23:00Z', 'content': 'By Reuters Staff\\r\\nLONDON (Reuters) - The Paris Club of international creditors said on Monday it had accepted a request from Kenya for a debt-servicing suspension from January to the end of June.\\r\\nKe… [+1127 chars]'}, {'source': {'id': 'reuters', 'name': 'Reuters'}, 'author': 'Reuters Staff', 'title': 'Kenya extends night curfew to March to curb COVID-19 spread - Reuters India', 'description': \"Kenya is extending its nightly curfew to March 12 as part of measures aimed at taming the spread of COVID-19, President Uhuru Kenyatta's office said on Sunday.\", 'url': 'https://www.reuters.com/article/health-coronavirus-kenya-idINKBN2980DJ', 'urlToImage': 'https://static.reuters.com/resources/r/?m=02&d=20210103&t=2&i=1546459161&r=LYNXMPEH02075&w=800', 'publishedAt': '2021-01-03T13:31:00Z', 'content': 'By Reuters Staff\\r\\nFILE PHOTO: A health worker holds a tube containing a sample during free mass testing for the coronavirus disease (COVID-19) in Kibera slums of Nairobi, Kenya, October 17, 2020. REU… [+1394 chars]'}, {'source': {'id': 'reuters', 'name': 'Reuters'}, 'author': 'Reuters Staff', 'title': 'Kenya extends night curfew to March to curb COVID-19 spread - Reuters', 'description': \"Kenya is extending its nightly curfew to March 12 as part of measures aimed at taming the spread of COVID-19, President Uhuru Kenyatta's office said on Sunday.\", 'url': 'https://www.reuters.com/article/health-coronavirus-kenya-idUSL8N2JE01V', 'urlToImage': 'https://s1.reutersmedia.net/resources_v2/images/rcom-default.png?w=800', 'publishedAt': '2021-01-03T12:25:00Z', 'content': 'By Reuters Staff\\r\\nNAIROBI, Jan 3 (Reuters) - Kenya is extending its nightly curfew to March 12 as part of measures aimed at taming the spread of COVID-19, President Uhuru Kenyattas office said on Sun… [+1248 chars]'}, {'source': {'id': 'reuters', 'name': 'Reuters'}, 'author': 'Reuters Staff', 'title': 'Kenya extends night curfew to March to curb COVID-19 spread - Reuters India', 'description': \"Kenya is extending its nightly curfew to March 12 as part of measures aimed at taming the spread of COVID-19, President Uhuru Kenyatta's office said on Sunday.\", 'url': 'https://in.reuters.com/article/health-coronavirus-kenya-idINKBN2980DJ', 'urlToImage': 'https://static.reuters.com/resources/r/?m=02&d=20210103&t=2&i=1546459161&r=LYNXMPEH02075&w=800', 'publishedAt': '2021-01-03T13:31:00Z', 'content': 'By Reuters Staff\\r\\nFILE PHOTO: A health worker holds a tube containing a sample during free mass testing for the coronavirus disease (COVID-19) in Kibera slums of Nairobi, Kenya, October 17, 2020. REU… [+1394 chars]'}, {'source': {'id': 'reuters', 'name': 'Reuters'}, 'author': 'Reuters Staff', 'title': 'Kenya extends night curfew to March to curb COVID-19 spread - Reuters India', 'description': \"Kenya is extending its nightly curfew to March 12 as part of measures aimed at taming the spread of COVID-19, President Uhuru Kenyatta's office said on Sunday.\", 'url': 'https://in.reuters.com/article/health-coronavirus-kenya-idINL8N2JE01V', 'urlToImage': 'https://s1.reutersmedia.net/resources_v2/images/rcom-default.png?w=800', 'publishedAt': '2021-01-03T12:22:00Z', 'content': 'By Reuters Staff\\r\\nNAIROBI, Jan 3 (Reuters) - Kenya is extending its nightly curfew to March 12 as part of measures aimed at taming the spread of COVID-19, President Uhuru Kenyattas office said on Sun… [+1248 chars]'}, {'source': {'id': 'reuters', 'name': 'Reuters'}, 'author': 'Reuters Staff', 'title': 'Kenya private sector activity inches up in December -PMI - Reuters', 'description': \"Kenya's private sector activity increased only slightly in December as firms struggled with a jump in prices of materials and shortages in some cases, a survey showed on Wednesday.\", 'url': 'https://www.reuters.com/article/uk-kenya-economy-pmi-idUSKBN29B145', 'urlToImage': 'https://s1.reutersmedia.net/resources_v2/images/rcom-default.png?w=800', 'publishedAt': '2021-01-06T09:38:00Z', 'content': 'By Reuters Staff\\r\\nNAIROBI (Reuters) - Kenyas private sector activity increased only slightly in December as firms struggled with a jump in prices of materials and shortages in some cases, a survey sh… [+771 chars]'}, {'source': {'id': 'reuters', 'name': 'Reuters'}, 'author': 'Reuters Staff', 'title': 'Kenya braces for return of devastating locust swarms - Reuters', 'description': 'Swarms of desert locusts have reappeared in East Africa to the dismay of farmers and villagers who witnessed them wreak havoc on their crops and pasture in previous years.', 'url': 'https://www.reuters.com/article/us-kenya-locusts/kenya-braces-for-return-of-devastating-locust-swarms-idUSKBN29O1J9', 'urlToImage': 'https://static.reuters.com/resources/r/?m=02&d=20210119&t=2&i=1548308135&r=LYNXMPEH0I0VM&w=800', 'publishedAt': '2021-01-19T13:16:00Z', 'content': 'By Reuters Staff\\r\\nNAIROBI (Reuters) - Swarms of desert locusts have reappeared in East Africa to the dismay of farmers and villagers who witnessed them wreak havoc on their crops and pasture in previ… [+1705 chars]'}, {'source': {'id': 'reuters', 'name': 'Reuters'}, 'author': 'Reuters Staff', 'title': 'Kenya braces for return of devastating locust swarms - Reuters', 'description': 'Swarms of desert locusts have reappeared in East Africa to the dismay of farmers and villagers who witnessed them wreak havoc on their crops and pasture in previous years.', 'url': 'https://www.reuters.com/article/uk-kenya-locusts/kenya-braces-for-return-of-devastating-locust-swarms-idUSKBN29O1JB', 'urlToImage': 'https://static.reuters.com/resources/r/?m=02&d=20210119&t=2&i=1548308394&r=LYNXMPEH0I0VL&w=800', 'publishedAt': '2021-01-19T13:16:00Z', 'content': 'By Reuters Staff\\r\\nNAIROBI (Reuters) - Swarms of desert locusts have reappeared in East Africa to the dismay of farmers and villagers who witnessed them wreak havoc on their crops and pasture in previ… [+1705 chars]'}, {'source': {'id': 'reuters', 'name': 'Reuters'}, 'author': 'Reuters Staff', 'title': 'Kenya expects 24 million COVID-19 vaccine doses to start arriving next month - Reuters India', 'description': 'Kenya has ordered 24 million doses of the COVID-19 vaccine developed by AstraZeneca and expects them to start arriving in the second week of February, its health minister said.', 'url': 'https://in.reuters.com/article/health-coronavirus-kenya-idINKBN29C1HE', 'urlToImage': 'https://static.reuters.com/resources/r/?m=02&d=20210107&t=2&i=1546950665&r=LYNXMPEH060SL&w=800', 'publishedAt': '2021-01-07T11:46:00Z', 'content': 'By Reuters Staff\\r\\nFILE PHOTO: Vials with a sticker reading, \"COVID-19 / Coronavirus vaccine / Injection only\" and a medical syringe are seen in front of a displayed AstraZeneca logo in this illustrat… [+1280 chars]'}, {'source': {'id': 'reuters', 'name': 'Reuters'}, 'author': 'Reuters Staff', 'title': 'UPDATE 1-Kenya Airways plans more pay cuts due to pandemic -memo - Reuters', 'description': 'Kenya Airways plans further pay cuts for employees of as much as 30% after the airline was hit by the coronavirus pandemic that has caused a slump in air travel, an internal memo showed on Friday.', 'url': 'https://www.reuters.com/article/health-coronavirus-kenya-airways/update-1-kenya-airways-plans-more-pay-cuts-due-to-pandemic-memo-idUSL1N2JQ0HR', 'urlToImage': 'https://s1.reutersmedia.net/resources_v2/images/rcom-default.png?w=800', 'publishedAt': '2021-01-15T09:00:00Z', 'content': 'By Reuters Staff\\r\\n(Updates the source throughout)\\r\\nNAIROBI, Jan 15 (Reuters) - Kenya Airways plans further pay cuts for employees of as much as 30% after the airline was hit by the coronavirus pandem… [+1678 chars]'}, {'source': {'id': 'reuters', 'name': 'Reuters'}, 'author': 'Humphrey Malalo', 'title': 'Kenya drops charges against officials due to testify against ex-finance minister - Reuters', 'description': 'Kenya dropped charges on Tuesday against two senior former officials who prosecutors said had agreed to provide testimony against a former finance minister and others accused of corruption over the awarding of tenders to build two dams.', 'url': 'https://www.reuters.com/article/us-kenya-corruption/kenya-drops-charges-against-officials-due-to-testify-against-ex-finance-minister-idUSKBN29H1LL', 'urlToImage': 'https://static.reuters.com/resources/r/?m=02&d=20210112&t=2&i=1547489521&r=LYNXMPEH0B0TS&w=800', 'publishedAt': '2021-01-12T13:02:00Z', 'content': \"FILE PHOTO: Kenya's former Finance Minister Henry Rotich appears at a pre-trial conference at the Milimani Law Courts in Nairobi, Kenya September 18, 2019. REUTERS/Njeri Mwangi/File Photo\\r\\nNAIROBI (R… [+1476 chars]\"}, {'source': {'id': 'reuters', 'name': 'Reuters'}, 'author': 'Thomas Mukoya', 'title': 'Parents worry as crowded Kenyan schools reopen after coronavirus shutdown - Reuters India', 'description': \"Hundreds of children formed an orderly queue that snaked through Nairobi's biggest slum Kibera on Monday, waiting to enter classrooms for the first time since March, when the government closed schools after Kenya reported its first COVID-19 case.\", 'url': 'https://in.reuters.com/article/health-coronavirus-schools-kenya-idINKBN29920C', 'urlToImage': 'https://static.reuters.com/resources/r/?m=02&d=20210104&t=2&i=1546568958&r=LYNXMPEH030YR&w=800', 'publishedAt': '2021-01-04T17:28:00Z', 'content': 'NAIROBI (Reuters) - Hundreds of children formed an orderly queue that snaked through Nairobis biggest slum Kibera on Monday, waiting to enter classrooms for the first time since March, when the gover… [+2154 chars]'}, {'source': {'id': 'reuters', 'name': 'Reuters'}, 'author': 'Reuters Staff', 'title': 'Britain helps Kenya prepare for roll-out of COVID-19 vaccine - Reuters', 'description': 'Britain said on Wednesday it was helping Kenya prepare to roll out the COVID-19 vaccine developed by Astrazeneca and Oxford University, as African nations race to ensure their populations are inoculated.', 'url': 'https://www.reuters.com/article/health-coronavirus-kenya-britain-idUSL8N2JV1W8', 'urlToImage': 'https://s1.reutersmedia.net/resources_v2/images/rcom-default.png?w=800', 'publishedAt': '2021-01-20T10:01:07Z', 'content': 'By Reuters Staff\\r\\nNAIROBI, Jan 20 (Reuters) - Britain said on Wednesday it was helping Kenya prepare to roll out the COVID-19 vaccine developed by Astrazeneca and Oxford University, as African nation… [+1359 chars]'}, {'source': {'id': 'reuters', 'name': 'Reuters'}, 'author': 'Reuters Staff', 'title': 'UPDATE 1-Kenya aims to vaccinate 16 million people against COVID-19 by June 2022 - Reuters', 'description': 'Kenya said on Friday it was seeking an extra 11 million doses of COVID-19 vaccines, on top of 24 million already ordered, and hopes to have 16 million people inoculated by June next year.', 'url': 'https://www.reuters.com/article/health-coronavirus-kenya-idUSL1N2K415G', 'urlToImage': 'https://s1.reutersmedia.net/resources_v2/images/rcom-default.png?w=800', 'publishedAt': '2021-01-29T13:00:00Z', 'content': 'By Reuters Staff\\r\\n(Adds details, quotes)\\r\\nNAIROBI, Jan 29 (Reuters) - Kenya said on Friday it was seeking an extra 11 million doses of COVID-19 vaccines, on top of 24 million already ordered, and hop… [+1677 chars]'}, {'source': {'id': 'reuters', 'name': 'Reuters'}, 'author': 'Reuters Staff', 'title': 'Kenya to cut fiscal deficit in 2021/22 to 7.5% of GDP, Treasury says - Reuters', 'description': 'Kenya will reduce its budget deficit to 7.5% of GDP in the 2021/22 (July-June) financial year, from 9.0% this fiscal year, the finance ministry said in a draft budget policy statement.', 'url': 'https://www.reuters.com/article/uk-kenya-economy-idUSKBN29V0MT', 'urlToImage': 'https://static.reuters.com/resources/r/?m=02&d=20210126&t=2&i=1549067519&r=LYNXMPEH0P0EU&w=800', 'publishedAt': '2021-01-26T06:54:00Z', 'content': 'By Reuters Staff\\r\\nA worker carries a bale of imported second-hand clothes past displayed apparel, amid the coronavirus disease (COVID-19) outbreak at the Gikomba market in Nairobi, Kenya September 18… [+430 chars]'}, {'source': {'id': 'reuters', 'name': 'Reuters'}, 'author': 'Reuters Staff', 'title': \"Kenya's new car sales drop by 16% in 2020 on coronavirus crisis - Reuters\", 'description': 'The number of new cars sold in Kenya fell by 16% last year as the East African economy reeled from the impact of the COVID-19 pandemic, data from the industry association showed on Wednesday.', 'url': 'https://www.reuters.com/article/kenya-autos-idUSL8N2JV1GY', 'urlToImage': 'https://s1.reutersmedia.net/resources_v2/images/rcom-default.png?w=800', 'publishedAt': '2021-01-20T07:59:00Z', 'content': 'By Reuters Staff\\r\\nNAIROBI, Jan 20 (Reuters) - The number of new cars sold in Kenya fell by 16% last year as the East African economy reeled from the impact of the COVID-19 pandemic, data from the ind… [+1245 chars]'}, {'source': {'id': 'reuters', 'name': 'Reuters'}, 'author': 'Reuters Staff', 'title': \"Kenya's remittance inflows jump by nearly 11% in 2020 to $3 billion - cenbank - Reuters\", 'description': 'Remittance inflows into Kenya jumped by nearly 11% in 2020 to $3.09 billion as technological innovations helped people overcome the economic struggles brought on by the coronavirus crisis to send more money home, the central bank said on Friday.', 'url': 'https://www.reuters.com/article/uk-kenya-economy/kenyas-remittance-inflows-jump-by-nearly-11-in-2020-to-3-billion-cenbank-idUSKBN29K19R', 'urlToImage': 'https://static.reuters.com/resources/r/?m=02&d=20210115&t=2&i=1547916444&r=LYNXMPEH0E0N1&w=800', 'publishedAt': '2021-01-15T11:46:00Z', 'content': \"By Reuters Staff\\r\\nA security guard walks past a montage of U.S. dollar bills outside a currency exchange bureau in Kenya's capital Nairobi, July 23, 2015. REUTERS/Thomas Mukoya/File Photo\\r\\nNAIROBI (R… [+1511 chars]\"}]}\n"
     ]
    },
    {
     "name": "stdout",
     "output_type": "stream",
     "text": [
      "{'status': 'ok', 'totalResults': 3674, 'articles': [{'source': {'id': 'reuters', 'name': 'Reuters'}, 'author': 'Reuters Staff', 'title': 'Kenya to save 27 billion shilling from China debt service suspension deal - Reuters', 'description': 'Kenya has secured a debt repayment moratorium from China which will save it 27 billion shillings ($245.23 million) in the period to June, its finance minister said on Wednesday.', 'url': 'https://www.reuters.com/article/uk-kenya-debt-china-idUSKBN29P1A3', 'urlToImage': 'https://static.reuters.com/resources/r/?m=02&d=20210120&t=2&i=1548430987&r=LYNXMPEH0J0OT&w=800', 'publishedAt': '2021-01-20T11:35:15Z', 'content': \"By Reuters Staff\\r\\nKenya's Finance Minister Ukur Yatani speaks during a Reuters interview in his office, in Nairobi, Kenya May 15, 2020. REUTERS/Jackson Njehia \\r\\nNAIROBI (Reuters) - Kenya has secured … [+1528 chars]\"}, {'source': {'id': 'reuters', 'name': 'Reuters'}, 'author': 'Reuters Staff', 'title': 'Kenya reports two cases of new coronavirus variant first seen in South Africa - Reuters', 'description': 'Kenya has identified two cases of the new coronavirus variant first seen in South Africa in two men who have since left the country, a senior health ministry official said on Wednesday.', 'url': 'https://www.reuters.com/article/uk-health-coronavirus-kenya-variant-idUSKBN29Q0OX', 'urlToImage': 'https://static.reuters.com/resources/r/?m=02&d=20210121&t=2&i=1548546628&r=LYNXMPEH0K0CE&w=800', 'publishedAt': '2021-01-21T07:34:00Z', 'content': 'By Reuters Staff\\r\\nMembers of the medical staff wear protective suits inside the coronavirus disease (COVID-19) ICU of Machakos Level 5 Hospital, in Machakos, Kenya October 28, 2020. Picture taken Oct… [+606 chars]'}, {'source': {'id': 'reuters', 'name': 'Reuters'}, 'author': 'Reuters Staff', 'title': 'Kenya expects 24 million COVID-19 vaccine doses to start arriving next month - Reuters India', 'description': 'Kenya has ordered 24 million doses of the COVID-19 vaccine developed by AstraZeneca and expects them to start arriving in the second week of February, its health minister said.', 'url': 'https://in.reuters.com/article/us-health-coronavirus-kenya-idINKBN29C1G4', 'urlToImage': 'https://static.reuters.com/resources/r/?m=02&d=20210107&t=2&i=1546948668&r=LYNXMPEH060S0&w=800', 'publishedAt': '2021-01-07T11:31:00Z', 'content': 'By Reuters Staff\\r\\nFILE PHOTO: Vials with a sticker reading, \"COVID-19 / Coronavirus vaccine / Injection only\" and a medical syringe are seen in front of a displayed AstraZeneca logo in this illustrat… [+1269 chars]'}, {'source': {'id': 'reuters', 'name': 'Reuters'}, 'author': 'Humphrey Malalo', 'title': 'Kenya drops charges against officials due to testify against ex-finance minister - Reuters', 'description': 'Kenya dropped charges on Tuesday against two senior former officials who prosecutors said had agreed to provide testimony against a former finance minister and others accused of corruption over the awarding of tenders to build two dams.', 'url': 'https://www.reuters.com/article/uk-kenya-corruption/kenya-drops-charges-against-officials-due-to-testify-against-ex-finance-minister-idUSKBN29H1NA', 'urlToImage': 'https://s1.reutersmedia.net/resources_v2/images/rcom-default.png?w=800', 'publishedAt': '2021-01-12T13:18:00Z', 'content': 'NAIROBI (Reuters) - Kenya dropped charges on Tuesday against two senior former officials who prosecutors said had agreed to provide testimony against a former finance minister and others accused of c… [+1287 chars]'}, {'source': {'id': 'reuters', 'name': 'Reuters'}, 'author': 'Humphrey Malalo', 'title': 'Kenya drops charges against officials due to testify against ex-finance minister - Reuters Africa', 'description': 'Kenya dropped charges on Tuesday against two senior former officials who prosecutors said had agreed to provide testimony against a former finance minister and others accused of corruption over the awarding of tenders to build two dams.', 'url': 'https://www.reuters.com/article/us-kenya-corruption/kenya-drops-charges-against-officials-due-to-testify-against-ex-finance-minister-idUSKBN29H1LL?il=0', 'urlToImage': 'https://static.reuters.com/resources/r/?m=02&d=20210112&t=2&i=1547489521&r=LYNXMPEH0B0TS&w=800', 'publishedAt': '2021-01-12T13:02:00Z', 'content': \"FILE PHOTO: Kenya's former Finance Minister Henry Rotich appears at a pre-trial conference at the Milimani Law Courts in Nairobi, Kenya September 18, 2019. REUTERS/Njeri Mwangi/File Photo\\r\\nNAIROBI (R… [+1476 chars]\"}, {'source': {'id': 'reuters', 'name': 'Reuters'}, 'author': 'Reuters Staff', 'title': 'Kenya reports two cases of new coronavirus variant first seen in South Africa - Reuters', 'description': 'Kenya has identified two cases of the new coronavirus variant first seen in South Africa in two men who have since left the country, a senior health ministry official said on Wednesday.', 'url': 'https://www.reuters.com/article/uk-health-coronavirus-kenya-variant-idUSKBN29P1XI', 'urlToImage': 'https://s1.reutersmedia.net/resources_v2/images/rcom-default.png?w=800', 'publishedAt': '2021-01-20T15:22:27Z', 'content': 'By Reuters Staff\\r\\nNAIROBI (Reuters) - Kenya has identified two cases of the new coronavirus variant first seen in South Africa in two men who have since left the country, a senior health ministry off… [+390 chars]'}, {'source': {'id': None, 'name': 'New York Times'}, 'author': 'Abdi Latif Dahir', 'title': '6 Park Rangers Killed in Congo Gorilla Reserve Ambush', 'description': 'The attack in the Virunga National Park was the latest assault on rangers charged with protecting one of Africa’s oldest nature areas.', 'url': 'https://www.nytimes.com/2021/01/11/world/africa/congo-gorilla-park-rangers-killed.html', 'urlToImage': 'https://static01.nyt.com/images/2021/01/11/world/11congo1/11congo1-facebookJumbo.jpg', 'publishedAt': '2021-01-11T11:12:16Z', 'content': 'NAIROBI, Kenya At least six rangers have been ambushed and killed in the Virunga National Park in the Democratic Republic of Congo, park officials said, part of a wave of violence that has plagued Af… [+710 chars]'}, {'source': {'id': None, 'name': 'NPR'}, 'author': 'Jason Beaubien', 'title': 'Locust Swarms Threaten Parts Of East Africa', 'description': \"Swarms of locusts have reached dangerous levels in parts of Ethiopia, Somalia and Kenya. They're reproducing rapidly in part because of unusual rainfall patterns.\", 'url': 'https://www.npr.org/2021/01/19/958543535/locust-swarms-threaten-parts-of-east-africa', 'urlToImage': 'https://media.npr.org/assets/img/2021/01/19/locusts-africa_01_wide-e82984f5f93b16068e7bda9ffb2a6eb51437e228.jpg?s=1400', 'publishedAt': '2021-01-20T02:28:28Z', 'content': \"A man holds a desert locust in his hand in Kenya's Rift Valley. Farmers in central Kenya fear the locusts will strip vegetation from the rangeland where their livestock graze.\\r\\nFredrik Lerneryd/Getty… [+4711 chars]\"}, {'source': {'id': 'reuters', 'name': 'Reuters'}, 'author': 'Thomas Mukoya', 'title': 'Parents worry as crowded Kenyan schools reopen after coronavirus shutdown - Reuters India', 'description': \"Hundreds of children formed an orderly queue that snaked through Nairobi's biggest slum Kibera on Monday, waiting to enter classrooms for the first time since March, when the government closed schools after Kenya reported its first COVID-19 case.\", 'url': 'https://in.reuters.com/article/us-health-coronavirus-schools-kenya-idINKBN29912E', 'urlToImage': 'https://s1.reutersmedia.net/resources_v2/images/rcom-default.png?w=800', 'publishedAt': '2021-01-04T11:07:00Z', 'content': 'NAIROBI (Reuters) - Hundreds of children formed an orderly queue that snaked through Nairobis biggest slum Kibera on Monday, waiting to enter classrooms for the first time since March, when the gover… [+2154 chars]'}, {'source': {'id': 'bbc-news', 'name': 'BBC News'}, 'author': 'https://www.facebook.com/bbcnews', 'title': \"Three lives, one message: Stop killing Mexico's transgender women\", 'description': 'In Mexico, the second most dangerous country to be transgender, trans women fight to be protected.', 'url': 'https://www.bbc.co.uk/news/world-latin-america-55796384', 'urlToImage': 'https://ichef.bbci.co.uk/news/1024/branded_news/FA1A/production/_116662046_arielmexicosinger.jpg', 'publishedAt': '2021-02-01T00:38:16Z', 'content': 'By Will GrantBBC News, Mexico City\\r\\nimage captionAriel Hernandez Serrano hopes her music brings visibility to the trans community in Mexico City\\r\\nMexico is the second most dangerous country in the wo… [+5767 chars]'}, {'source': {'id': None, 'name': 'New York Times'}, 'author': 'Abdi Latif Dahir', 'title': '6 Park Rangers Ambushed and Killed in Congo Gorilla Reserve', 'description': 'The attack in the Virunga National Park was the latest assault on rangers charged with protecting one of Africa’s oldest nature areas.', 'url': 'https://www.nytimes.com/2021/01/11/world/africa/congo-park-rangers-killed.html', 'urlToImage': 'https://static01.nyt.com/images/2021/01/11/world/11congo1/11congo1-facebookJumbo.jpg', 'publishedAt': '2021-01-11T11:12:16Z', 'content': 'NAIROBI, Kenya At least six rangers have been ambushed and killed in the Virunga National Park in the Democratic Republic of Congo, park officials said, part of a wave of violence that has plagued Af… [+710 chars]'}, {'source': {'id': 'reuters', 'name': 'Reuters'}, 'author': 'Abdiqani Hassan', 'title': \"At least 11 killed after fighting erupts in Somalia's Jubbaland: doctor - Reuters\", 'description': 'At least 11 people were killed on Monday after fighting broke out between the Somali federal army and Jubbaland state forces in the Gedo region of southwestern Somalia, a local doctor told Reuters.', 'url': 'https://www.reuters.com/article/uk-somalia-security-idUSKBN29U1RQ', 'urlToImage': 'https://s1.reutersmedia.net/resources_v2/images/rcom-default.png?w=800', 'publishedAt': '2021-01-25T15:35:00Z', 'content': 'GAROWE, Somalia (Reuters) - At least 11 people were killed on Monday after fighting broke out between the Somali federal army and Jubbaland state forces in the Gedo region of southwestern Somalia, a … [+1772 chars]'}, {'source': {'id': 'reuters', 'name': 'Reuters'}, 'author': 'Duncan Miriri', 'title': 'East African Breweries sees recovery gaining pace in second half - Reuters', 'description': 'East African Breweries expects sales to recover from a coronavirus-induced slump in its second half to June, its outgoing chief executive said, as nations in the region relax measures to curb the spread of the virus.', 'url': 'https://www.reuters.com/article/uk-kenya-eabl-idUSKBN29Y18K', 'urlToImage': 'https://static.reuters.com/resources/r/?m=02&d=20210129&t=2&i=1549530477&r=LYNXMPEH0S0OZ&w=800', 'publishedAt': '2021-01-29T10:58:41Z', 'content': 'NAIROBI (Reuters) - East African Breweries expects sales to recover from a coronavirus-induced slump in its second half to June, its outgoing chief executive said, as nations in the region relax meas… [+1931 chars]'}, {'source': {'id': 'reuters', 'name': 'Reuters'}, 'author': 'Reuters Staff', 'title': 'Kenya Airways plans further pay cuts over COVID-19 pandemic, paper says - Reuters', 'description': 'Kenya Airways plans further pay cuts for employees, ranging as much as 30% for some, after it was hurt by lingering effects of the coronavirus pandemic that caused a slump in air travel, the privately-owned Business Daily said on Friday.', 'url': 'https://www.reuters.com/article/uk-health-coronavirus-kenya-airways/kenya-airways-plans-further-pay-cuts-over-covid-19-pandemic-paper-says-idUSKBN29K0O7', 'urlToImage': 'https://static.reuters.com/resources/r/?m=02&d=20210115&t=2&i=1547890283&r=LYNXMPEH0E0CE&w=800', 'publishedAt': '2021-01-15T07:26:00Z', 'content': 'By Reuters Staff\\r\\nNAIROBI (Reuters) - Kenya Airways plans further pay cuts for employees, ranging as much as 30% for some, after it was hurt by lingering effects of the coronavirus pandemic that caus… [+1767 chars]'}, {'source': {'id': None, 'name': 'Android Central'}, 'author': 'Babu Mohan', 'title': 'Alphabet pulls the plug on its ambitious Loon internet balloon project', 'description': \"Loon's first commercial service was launched in Kenya just seven months back.\\n\\n\\n\\nWhat you need to know\\n\\n\\nAlphabet has announced that it is shutting down Loon, a project it started nine years back to beam high-speed internet to remote areas using floating ball…\", 'url': 'https://www.androidcentral.com/google-parent-alphabet-pulls-plug-its-ambitious-loon-internet-balloon-project', 'urlToImage': 'https://www.androidcentral.com/sites/androidcentral.com/files/styles/large/public/article_images/2021/01/alphabet-loon.jpg', 'publishedAt': '2021-01-22T13:36:47Z', 'content': 'Google parent Alphabet has decided to shut down Loon, which started as an experimental project in 2013 with an aim to beam down high-speed internet access from floating balloons (via TechCrunch). In … [+1704 chars]'}, {'source': {'id': 'reuters', 'name': 'Reuters'}, 'author': None, 'title': 'Church of England head says EU vaccine stance undercuts its ethics - Reuters', 'description': 'Church of England head says EU vaccine stance undercuts its ethics\\xa0\\xa0Reuters', 'url': 'https://www.reuters.com/article/uk-britain-eu-vaccines-church-idUSKBN29Y2VL', 'urlToImage': None, 'publishedAt': '2021-01-29T20:44:00Z', 'content': \"FILE PHOTO: Archbishop of Canterbury Justin Welby prays outside the church after attending a special service at the Anglican Church of Kenya (ACK) St. Stephen's Cathedral along Jogoo road in Nairobi,… [+673 chars]\"}, {'source': {'id': 'reuters', 'name': 'Reuters'}, 'author': 'Reuters Staff', 'title': 'Athletics-Kandie gunning for 10,000m glory for Kenya in Tokyo - Reuters', 'description': \"Kenya's half marathon record holder Kibiwott Kandie says he is shifting his focus to the 10,000 metres as he looks to earn a ticket for this year's Tokyo Olympics and help end his country's 53-year wait for a gold medal in the event.\", 'url': 'https://in.reuters.com/article/athletics-kandie-idUSL1N2JI0DO', 'urlToImage': 'https://s1.reutersmedia.net/resources_v2/images/rcom-default.png?w=800', 'publishedAt': '2021-01-07T06:19:00Z', 'content': 'By Reuters Staff\\r\\nJan 7 (Reuters) - Kenyas half marathon record holder Kibiwott Kandie says he is shifting his focus to the 10,000 metres as he looks to earn a ticket for this years Tokyo Olympics an… [+1222 chars]'}, {'source': {'id': 'reuters', 'name': 'Reuters'}, 'author': 'Reuters Staff', 'title': 'Kenya private sector activity inches up in December -PMI - Reuters India', 'description': \"Kenya's private sector activity increased only slightly in December as firms struggled with a jump in prices of materials and shortages in some cases, a survey showed on Wednesday.\", 'url': 'https://in.reuters.com/article/kenya-economy-pmi-idINL8N2JG1ZZ', 'urlToImage': 'https://s1.reutersmedia.net/resources_v2/images/rcom-default.png?w=800', 'publishedAt': '2021-01-06T07:34:00Z', 'content': 'By Reuters Staff\\r\\nNAIROBI, Jan 6 (Reuters) - Kenyas private sector activity increased only slightly in December as firms struggled with a jump in prices of materials and shortages in some cases, a su… [+778 chars]'}, {'source': {'id': 'reuters', 'name': 'Reuters'}, 'author': 'Reuters Staff', 'title': 'IMF hopes to present Kenya program to its board in early 2021 - Reuters', 'description': 'The International Monetary Fund is continuing to work with Kenyan authorities on a possible financing program and hopes to present a possible program to its board in early 2021, IMF spokesman Gerry Rice said on Thursday.', 'url': 'https://www.reuters.com/article/us-kenya-imf/imf-hopes-to-present-kenya-program-to-its-board-in-early-2021-idUSKBN29J27E', 'urlToImage': 'https://static.reuters.com/resources/r/?m=02&d=20210114&t=2&i=1547806314&r=LYNXMPEH0D18Q&w=800', 'publishedAt': '2021-01-14T16:36:00Z', 'content': 'By Reuters Staff\\r\\nA man walks past the International Monetary Fund (IMF) logo at its headquarters in Washington, U.S., May 10, 2018. REUTERS/Yuri Gripas\\r\\nWASHINGTON (Reuters) - The International Mone… [+537 chars]'}, {'source': {'id': 'reuters', 'name': 'Reuters'}, 'author': 'George Obulutsa, Omar Mohammed', 'title': 'UPDATE 1-Kenya central bank holds main lending rate for sixth time in a row - Reuters', 'description': \"Kenya's central bank held its benchmark lending rate at 7.0% on Wednesday, the bank's monetary policy committee said, and said that measures it had put in place since March have helped mitigate COVID-19's effect on the economy.\", 'url': 'https://www.reuters.com/article/kenya-rates-idUSL8N2K24PH', 'urlToImage': 'https://s1.reutersmedia.net/resources_v2/images/rcom-default.png?w=800', 'publishedAt': '2021-01-27T14:37:00Z', 'content': '(Adds details, quotes, context)\\r\\nNAIROBI, Jan 27 (Reuters) - Kenyas central bank held its benchmark lending rate at 7.0% on Wednesday, the banks monetary policy committee said, and said that measures… [+1569 chars]'}]}\n"
     ]
    },
    {
     "name": "stdout",
     "output_type": "stream",
     "text": [
      "{'status': 'ok', 'totalResults': 3674, 'articles': [{'source': {'id': 'reuters', 'name': 'Reuters'}, 'author': 'Reuters Staff', 'title': 'Kandie gunning for 10,000m glory for Kenya in Tokyo - Reuters UK', 'description': \"Kenya's half marathon record holder Kibiwott Kandie says he is shifting his focus to the 10,000 metres as he looks to earn a ticket for this year's Tokyo Olympics and help end his country's 53-year wait for a gold medal in the event.\", 'url': 'https://uk.reuters.com/article/uk-athletics-kandie-idUKKBN29C0NP', 'urlToImage': 'https://static.reuters.com/resources/r/?m=02&d=20210107&t=2&i=1546917409&r=LYNXMPEH060E6&w=800', 'publishedAt': '2021-01-07T06:30:00Z', 'content': 'By Reuters Staff\\r\\nFILE PHOTO: Kibiwott Kandie of Kenya crosses the finish line after passing Uganda\\'s Jacob Kiplimo at the last moment to win the annual \"Sao Silvestre Run\", an international race thr… [+1413 chars]'}, {'source': {'id': 'bbc-news', 'name': 'BBC News'}, 'author': None, 'title': \"Women’s and Under-20s Six Nations to start in 'spring or summer', say organisers\", 'description': \"The Women's and Under-20s Six Nations will go ahead in the spring or summer, organisers say.\", 'url': 'https://www.bbc.co.uk/sport/rugby-union/55651748', 'urlToImage': 'https://ichef.bbci.co.uk/live-experience/cps/624/cpsprodpb/E308/production/_116502185_index_eng.jpg', 'publishedAt': '2021-01-13T16:57:16Z', 'content': \"England won the Grand Slam in a delayed finish to the 2020 Women's Six Nations, completing their fixtures in November\\r\\nThe 2021 Women's Six Nations will be delayed - but organisers are aiming for a s… [+2635 chars]\"}, {'source': {'id': 'reuters', 'name': 'Reuters'}, 'author': 'Omar Mohammed', 'title': 'UPDATE 1-Airtel Africa to focus on current markets, will not bid for licences in Ethiopia - CEO - Reuters', 'description': \"Airtel Africa will focus on growing in the markets where it already operates on the continent and will not bid for licences in Ethiopia, where the nation of 110 million people is opening up its telecoms sector, the company's CEO said on Friday.\", 'url': 'https://www.reuters.com/article/airtel-africa-idUSL8N2K460T', 'urlToImage': 'https://s1.reutersmedia.net/resources_v2/images/rcom-default.png?w=800', 'publishedAt': '2021-01-29T14:58:00Z', 'content': '(Adds focus on Tanzania, Kenya nextworks)\\r\\nNAIROBI, Jan 29 (Reuters) - Airtel Africa will focus on growing in the markets where it already operates on the continent and will not bid for licences in E… [+3056 chars]'}, {'source': {'id': 'reuters', 'name': 'Reuters'}, 'author': 'Omar Mohammed', 'title': 'Airtel Africa to focus on current markets, will not bid for licences in Ethiopia - CEO - Reuters', 'description': \"Airtel Africa will focus on growing in the markets where it already operates on the continent and will not bid for licences in Ethiopia, where the nation of 110 million people is opening up its telecoms sector, the company's CEO said on Friday.\", 'url': 'https://www.reuters.com/article/uk-airtel-africa-idUSKBN29Y1U9', 'urlToImage': 'https://static.reuters.com/resources/r/?m=02&d=20210129&t=2&i=1549555497&r=LYNXMPEH0S12S&w=800', 'publishedAt': '2021-01-29T13:55:00Z', 'content': 'NAIROBI (Reuters) - Airtel Africa will focus on growing in the markets where it already operates on the continent and will not bid for licences in Ethiopia, where the nation of 110 million people is … [+3014 chars]'}, {'source': {'id': 'reuters', 'name': 'Reuters'}, 'author': 'Elena Gyldenkerne', 'title': 'Scientists produce embryos in race to save northern white rhino from extinction - Reuters', 'description': \"Scientists working to save the northern white rhino from extinction have produced two more embryos of the world's most endangered mammal, increasing the number of viable embryos produced so far to five.\", 'url': 'https://www.reuters.com/article/us-kenya-conservation-germany-white-rhin-idUSKBN29V1LE', 'urlToImage': 'https://static.reuters.com/resources/r/?m=02&d=20210126&t=2&i=1549109025&r=LYNXMPEH0P0XX&w=800', 'publishedAt': '2021-01-26T14:00:00Z', 'content': '(Reuters) - Scientists working to save the northern white rhino from extinction have produced two more embryos of the worlds most endangered mammal, increasing the number of viable embryos produced s… [+1507 chars]'}, {'source': {'id': 'reuters', 'name': 'Reuters'}, 'author': 'Elena Gyldenkerne', 'title': 'Scientists produce embryos in race to save northern white rhino from extinction - Reuters', 'description': \"Scientists working to save the northern white rhino from extinction have produced two more embryos of the world's most endangered mammal, increasing the number of viable embryos produced so far to five.\", 'url': 'https://www.reuters.com/article/us-kenya-conservation-germany-white-rhin-idUSKBN29V1OQ', 'urlToImage': 'https://static.reuters.com/resources/r/?m=02&d=20210126&t=2&i=1549112026&r=LYNXMPEH0P0ZT&w=800', 'publishedAt': '2021-01-26T14:29:00Z', 'content': '(Reuters) - Scientists working to save the northern white rhino from extinction have produced two more embryos of the worlds most endangered mammal, increasing the number of viable embryos produced s… [+1618 chars]'}, {'source': {'id': 'bbc-news', 'name': 'BBC News'}, 'author': 'https://www.facebook.com/bbcnews', 'title': 'Coronavirus: Kenya reopens schools after nine months', 'description': 'The closure was imposed after the country reported its first case of coronavirus.', 'url': 'https://www.bbc.co.uk/news/world-africa-55532789', 'urlToImage': 'https://ichef.bbci.co.uk/news/1024/branded_news/041E/production/_116345010_gettyimages-1230420753.jpg', 'publishedAt': '2021-01-04T16:51:08Z', 'content': 'image captionThere was excitement in most schools as the pupils were reunited after months\\r\\nMillions of mask-wearing pupils in Kenya have returned to school nine months after they were closed to prev… [+4122 chars]'}, {'source': {'id': None, 'name': 'NPR'}, 'author': 'Maria Godoy', 'title': 'Is The Pandemic Causing A Surge In Female Genital Mutilation?', 'description': \"Kenya's president pledged to stamp out the practice by 2022. But since the pandemic began, activists say more girls are being cut — and married off afterward.\", 'url': 'https://www.npr.org/sections/goatsandsoda/2021/01/05/951204266/is-the-pandemic-causing-a-surge-in-female-genital-mutilation', 'urlToImage': 'https://media.npr.org/assets/img/2021/01/04/2016-04-21t120000z_207419119_gf10000390965_rtrmadp_3_kenya-human-interest-20_wide-fbad32386c7ba4faa868dd46e188b4205f28f177.jpg?s=1400', 'publishedAt': '2021-01-05T13:04:49Z', 'content': 'Students rehearse a poem that they will recite at an event advocating against female genital mutilation at the Imbirikani Girls High School in Imbirikani, Kenya.\\r\\nSiegfried Modola/Reuters\\r\\nIn early D… [+8300 chars]'}, {'source': {'id': 'time', 'name': 'Time'}, 'author': 'Abigail Abrams', 'title': 'Biden is Rescinding the ‘Global Gag Rule’ on Abortions Abroad. But Undoing Trump’s Effects Will Take Time', 'description': 'It’s been a difficult four years for Nelly Munyasia. In 2016, Munyasia’s organization, Reproductive Health Network Kenya (RHNK), which helps Kenyans access health services and information including about abortion, got all of its funding through Planned Parent…', 'url': 'https://time.com/5933870/joe-biden-abortion-mexico-city-policy/', 'urlToImage': 'https://api.time.com/wp-content/uploads/2021/01/Joe-Biden-executive-orders.jpg?quality=85&w=1200&h=628&crop=1', 'publishedAt': '2021-01-28T19:44:23Z', 'content': 'It’s been a difficult four years for Nelly Munyasia. In 2016, Munyasia’s organization, Reproductive Health Network Kenya (RHNK), which helps Kenyans access health services and information including a… [+8926 chars]'}, {'source': {'id': 'bbc-news', 'name': 'BBC News'}, 'author': 'https://www.facebook.com/bbcnews', 'title': \"Ethiopia's Oromia conflict: Why a teacher was killed 'execution-style'\", 'description': \"An increasing number of civilians are becoming victims of the conflict in Ethiopia's Oromia region.\", 'url': 'https://www.bbc.co.uk/news/world-africa-55530351', 'urlToImage': 'https://ichef.bbci.co.uk/news/1024/branded_news/5C88/production/_116388632_teacher976.png', 'publishedAt': '2021-01-16T00:35:35Z', 'content': 'image copyrightKitilaa Guddata\\r\\nThe shooting dead of Kitilaa Guddata has left his family in shock. \\r\\nThe 32-year-old high school teacher was among the latest casualties in the conflict between govern… [+9543 chars]'}, {'source': {'id': 'reuters', 'name': 'Reuters'}, 'author': 'Chijioke Ohuocha', 'title': 'Nigeria to repay $500 million Eurobond, eyes debt market - Reuters', 'description': \"Nigeria will repay a $500 million Eurobond maturing this month with proceeds of a local bond raised in the fourth quarter and is also monitoring international debt market for new issues by frontier countries, the head of the country's debt office said.\", 'url': 'https://www.reuters.com/article/uk-nigeria-eurobonds-idUSKBN29B13X', 'urlToImage': 'https://s1.reutersmedia.net/resources_v2/images/rcom-default.png?w=800', 'publishedAt': '2021-01-06T09:38:00Z', 'content': 'ABUJA (Reuters) - Nigeria will repay a $500 million Eurobond maturing this month with proceeds of a local bond raised in the fourth quarter and is also monitoring international debt market for new is… [+1087 chars]'}, {'source': {'id': 'reuters', 'name': 'Reuters'}, 'author': 'Reuters Staff', 'title': \"Decrying vaccines, Tanzania leader says 'God will protect' from COVID-19 - Reuters\", 'description': \"Tanzania's President John Magufuli said on Wednesday that no lockdown was planned because God would protect people from COVID-19 while homespun precautions such as steam inhalation were better than vaccines.\", 'url': 'https://www.reuters.com/article/us-health-coronavirus-tanzania-idUSKBN29W1Z6', 'urlToImage': 'https://static.reuters.com/resources/r/?m=02&d=20210127&t=2&i=1549254913&r=LYNXMPEH0Q14T&w=800', 'publishedAt': '2021-01-27T15:27:00Z', 'content': \"By Reuters Staff\\r\\nFILE PHOTO: Tanzania's President John Magufuli addresses a news conference during his official visit to Nairobi, Kenya October 31, 2016. REUTERS/Thomas Mukoya\\r\\nDAR ES SALAAM (Reuter… [+1203 chars]\"}, {'source': {'id': None, 'name': 'New York Times'}, 'author': 'Jessica Grose', 'title': 'The Upside to Screen Time', 'description': 'Kids are expanding their tech savvy to connect and explore creatively.', 'url': 'https://www.nytimes.com/2021/01/20/parenting/kids-screen-time-benefits-covid.html', 'urlToImage': 'https://static01.nyt.com/images/2021/01/20/us/20parenting-nl-screens/20parenting-nl-screens-facebookJumbo.jpg', 'publishedAt': '2021-01-20T23:06:29Z', 'content': '***\\r\\nMy daughter organizes a virtual sleepover every Friday with her friends. Its been a great way for them to connect, as some are in e-learning, some are home-schooling this year and some are in-pe… [+2558 chars]'}, {'source': {'id': 'reuters', 'name': 'Reuters'}, 'author': 'Edwin Waita', 'title': 'Kenyan recycles plastic waste into bricks stronger than concrete - Reuters', 'description': 'Nzambi Matee hurls a brick hard against a school footpath constructed from bricks made of recycled plastic that her factory turns out in the Kenyan capital.', 'url': 'https://www.reuters.com/article/uk-kenya-environment-recycling-idUSKBN2A2131', 'urlToImage': 'https://static.reuters.com/resources/r/?m=02&d=20210202&t=2&i=1549973753&r=LYNXMPEH110MY&w=800', 'publishedAt': '2021-02-02T10:43:00Z', 'content': 'NAIROBI (Reuters) - Nzambi Matee hurls a brick hard against a school footpath constructed from bricks made of recycled plastic that her factory turns out in the Kenyan capital.\\r\\nNzambi Matee, founder… [+1806 chars]'}, {'source': {'id': 'reuters', 'name': 'Reuters'}, 'author': 'Stephen Nellis', 'title': 'Microsoft earnings in spotlight for signs of business recovery, Xbox growth - Reuters', 'description': '`When Microsoft Corp reports earnings on Tuesday, investors will be looking for signs that big businesses are still investing in cloud computing, that smaller businesses are starting to recover and whether Xbox sales will be slowed by chip shortages.', 'url': 'https://www.reuters.com/article/us-microsoft-results-preview-idUSKBN29V1BB', 'urlToImage': 'https://static.reuters.com/resources/r/?m=02&d=20210126&t=2&i=1549096674&r=LYNXMPEH0P0S9&w=800', 'publishedAt': '2021-01-26T12:03:00Z', 'content': 'FILE PHOTO: Microsoft Corporate Vice President Michael Fortin talks to a delegate at the opening of the Microsoft Corp; Africa development centre (ADC) in Nairobi, Kenya May 14, 2019. REUTERS/Stringe… [+1849 chars]'}, {'source': {'id': 'reuters', 'name': 'Reuters'}, 'author': 'Tom Arnold', 'title': 'EMBARGOED-Remittance flows in 2021 may not be as slim as feared -study - Reuters', 'description': 'Money transfers from migrants overseas could rebound to pre-pandemic levels, upending a World Bank forecast of a further slowdown in remittances to developing countries in 2021, according to a new study.', 'url': 'https://www.reuters.com/article/markets-emerging-remittances-idUSL8N2K043D', 'urlToImage': 'https://s1.reutersmedia.net/resources_v2/images/rcom-default.png?w=800', 'publishedAt': '2021-01-27T09:15:00Z', 'content': 'LONDON, Jan 27 (Reuters) - Money transfers from migrants overseas could rebound to pre-pandemic levels, upending a World Bank forecast of a further slowdown in remittances to developing countries in … [+1812 chars]'}, {'source': {'id': None, 'name': 'Android Central'}, 'author': 'Michael Allison', 'title': 'Google cracks down on payday loan apps in India after reports of abuse', 'description': 'Google says customers and government agencies flagged these apps.\\n\\n\\n\\nWhat you need to know\\n\\n\\nGoogle today removed several personal loan apps from the Google Play Store in India.\\nThe company cited reports of predatory lending as lenders targeted vulnerable cus…', 'url': 'https://www.androidcentral.com/google-cracks-down-payday-loan-apps-india-after-reports-abuse', 'urlToImage': 'https://www.androidcentral.com/sites/androidcentral.com/files/styles/large/public/article_images/2019/08/google-play-store-redesign-aug19-hero-homepage.jpg', 'publishedAt': '2021-01-14T10:05:54Z', 'content': 'While the Indian smartphone market continues to thrive with a variety of inexpensive and powerful Android smartphones, the proliferation of smartphones provides a large target audience for unscrupulo… [+1664 chars]'}, {'source': {'id': 'ars-technica', 'name': 'Ars Technica'}, 'author': 'Ron Amadeo', 'title': 'Loon’s bubble bursts—Alphabet shuts down Internet balloon company', 'description': 'After eight years, Loon couldn\\'t find a \"long-term, sustainable business.\"', 'url': 'https://arstechnica.com/gadgets/2021/01/loons-bubble-bursts-alphabet-shuts-down-internet-balloon-company/', 'urlToImage': 'https://cdn.arstechnica.net/wp-content/uploads/2021/01/img_heroDisaster_desktop-760x380.jpg', 'publishedAt': '2021-01-22T17:19:21Z', 'content': '4 with 4 posters participating\\r\\n<ul><li>\\r\\n</li><li>\\r\\n A Loon balloon at full size, with some people for scale. \\r\\n</li><li>\\r\\n Loon would fly around at 20KM, much lower than a satellite. \\r\\n</li><li>\\r\\n … [+4898 chars]'}, {'source': {'id': None, 'name': '@tucson_police'}, 'author': 'John Gruber', 'title': '‘They Absolutely Do Not Believe Their Own Bullshit, but It’s Useful for Them to Pretend They Do.’', 'description': None, 'url': 'https://twitter.com/lilithsaintcrow/status/1347293759155838976', 'urlToImage': None, 'publishedAt': '2021-01-10T22:00:05Z', 'content': 'Wonderful thread on Twitter by Lili Saintcrow, on her dealings with an old racist neighbor:\\n\\n\\n One afternoon, Gene mentioned whatever the current outrage du jour\\non Fox was. (This was well before Der… [+968 chars]'}, {'source': {'id': 'techcrunch', 'name': 'TechCrunch'}, 'author': 'Natasha Mascarenhas', 'title': 'African edtech startup uLesson lands a $7.5 million Series A', 'description': 'ULesson, an edtech startup based in Nigeria that sells digital curriculum to students through SD cards, has raised $7.5 million in Series A funding. The round is led by Owl Ventures, which closed over half a billion in new fund money just months ago. Other pa…', 'url': 'http://techcrunch.com/2021/01/20/african-edtech-startup-ulesson-lands-a-7-5-million-series-a/', 'urlToImage': 'https://techcrunch.com/wp-content/uploads/2021/01/IMG_8665.jpeg?w=751', 'publishedAt': '2021-01-20T21:11:43Z', 'content': 'ULesson, an edtech startup based in Nigeria that sells digital curriculum to students through SD cards, has raised $7.5 million in Series A funding. The round is led by Owl Ventures, which closed ove… [+3750 chars]'}]}\n"
     ]
    },
    {
     "name": "stdout",
     "output_type": "stream",
     "text": [
      "{'status': 'ok', 'totalResults': 3674, 'articles': [{'source': {'id': 'reuters', 'name': 'Reuters'}, 'author': 'Reuters Staff', 'title': 'African free trade tariff rules should be completed by July-official - Reuters', 'description': \"Members of Africa's new free trade area should complete their tariff reduction schedules and finalise essential rules of origin by July, a senior official with the bloc's secretariat said on Monday.\", 'url': 'https://www.reuters.com/article/uk-africa-economy/african-free-trade-tariff-rules-should-be-completed-by-july-official-idUSKBN29G1CD', 'urlToImage': 'https://static.reuters.com/resources/r/?m=02&d=20210111&t=2&i=1547360920&r=LYNXMPEH0A0QM&w=800', 'publishedAt': '2021-01-11T12:37:00Z', 'content': 'By Reuters Staff\\r\\nJOHANNESBURG (Reuters) - Members of Africas new free trade area should complete their tariff reduction schedules and finalise essential rules of origin by July, a senior official wi… [+2382 chars]'}, {'source': {'id': 'reuters', 'name': 'Reuters'}, 'author': 'Reuters Staff', 'title': 'African free trade tariff rules should be completed by July-official - Reuters', 'description': \"Members of Africa's new free trade area should complete their tariff reduction schedules and finalise essential rules of origin by July, a senior official with the bloc's secretariat said on Monday.\", 'url': 'https://www.reuters.com/article/us-africa-economy/african-free-trade-tariff-rules-should-be-completed-by-july-official-idUSKBN29G1C7', 'urlToImage': 'https://static.reuters.com/resources/r/?m=02&d=20210111&t=2&i=1547360920&r=LYNXMPEH0A0QM&w=800', 'publishedAt': '2021-01-11T12:32:00Z', 'content': 'By Reuters Staff\\r\\nJOHANNESBURG (Reuters) - Members of Africas new free trade area should complete their tariff reduction schedules and finalise essential rules of origin by July, a senior official wi… [+2382 chars]'}, {'source': {'id': 'reuters', 'name': 'Reuters'}, 'author': 'Duncan Miriri, Omar Mohammed', 'title': \"Tech investors eye Africa's education and financial sectors - Reuters\", 'description': \"Africa's education and financial services sectors offer the best opportunities in the post-COVID-19 period, as the pandemic speeds up a shift into digital ways of living and working, two prominent investors said on Tuesday.\", 'url': 'https://www.reuters.com/article/africa-tech/reuters-next-tech-investors-eye-africas-education-and-financial-sectors-idUSL8N2JN32U', 'urlToImage': 'https://s1.reutersmedia.net/resources_v2/images/rcom-default.png?w=800', 'publishedAt': '2021-01-12T12:55:00Z', 'content': 'NAIROBI (Reuters) - Africas education and financial services sectors offer the best opportunities in the post-COVID-19 period, as the pandemic speeds up a shift into digital ways of living and workin… [+2280 chars]'}, {'source': {'id': 'reuters', 'name': 'Reuters'}, 'author': 'Reuters Staff', 'title': 'African free trade tariff rules should be completed by July-official - Reuters', 'description': \"Members of Africa's new free trade area should complete their tariff reduction schedules and finalise essential rules of origin by July, a senior official with the bloc's secretariat said on Monday.\", 'url': 'https://www.reuters.com/article/africa-economy/reuters-next-african-free-trade-tariff-rules-should-be-completed-by-july-official-idUSL1N2JM0ST', 'urlToImage': 'https://static.reuters.com/resources/r/?m=02&d=20210111&t=2&i=1547360920&r=LYNXMPEH0A0QM&w=800', 'publishedAt': '2021-01-11T12:37:00Z', 'content': 'By Reuters Staff\\r\\nJOHANNESBURG (Reuters) - Members of Africas new free trade area should complete their tariff reduction schedules and finalise essential rules of origin by July, a senior official wi… [+2382 chars]'}, {'source': {'id': 'reuters', 'name': 'Reuters'}, 'author': 'Duncan Miriri, Omar Mohammed', 'title': \"Tech investors eye Africa's education and financial sectors - Reuters\", 'description': \"Africa's education and financial services sectors offer the best opportunities in the post-COVID-19 period, as the pandemic speeds up a shift into digital ways of living and working, two prominent investors said on Tuesday.\", 'url': 'https://www.reuters.com/article/uk-africa-tech/tech-investors-eye-africas-education-and-financial-sectors-idUSKBN29H1NI', 'urlToImage': 'https://s1.reutersmedia.net/resources_v2/images/rcom-default.png?w=800', 'publishedAt': '2021-01-12T13:18:00Z', 'content': 'NAIROBI (Reuters) - Africas education and financial services sectors offer the best opportunities in the post-COVID-19 period, as the pandemic speeds up a shift into digital ways of living and workin… [+2280 chars]'}, {'source': {'id': 'vice-news', 'name': 'Vice News'}, 'author': 'Neha Wadekar, Leah Feiger', 'title': 'Female Genital Cutting Is on the Rise During COVID in Kenya', 'description': 'COVID-19 further complicates a global fight to end female genital cutting.', 'url': 'https://www.vice.com/en/article/xgzm83/female-genital-cutting-is-on-the-rise-during-covid-in-kenya', 'urlToImage': 'https://video-images.vice.com/articles/601060071996a900954d4526/lede/1611690083672-screen-shot-2021-01-26-at-23357-pm.png?image-resize-opts=Y3JvcD0xeHc6MC44NDM1eGg7MHh3LDAuMDc2MnhoJnJlc2l6ZT0xMjAwOiomcmVzaXplPTEyMDA6Kg', 'publishedAt': '2021-01-28T14:46:38Z', 'content': 'Laisamis, Kenya Sixteen-year-old Tracy went second. She watched her aunt kneel, bracing her knees against a sitting girls back and clutching the girls arms in a vice-like grip. Two other women positi… [+31855 chars]'}, {'source': {'id': 'bbc-news', 'name': 'BBC News'}, 'author': None, 'title': \"Detective Jane Mugo: Meet Kenya's 'spy queen'\", 'description': 'BBC Africa Eye looks at the inside story of Detective Jane Mugo, the woman they call Kenya’s \"spy queen\".', 'url': 'https://www.bbc.co.uk/news/av/world-africa-55766951', 'urlToImage': 'https://ichef.bbci.co.uk/images/ic/400xn/p094v086.png', 'publishedAt': '2021-01-25T00:01:40Z', 'content': 'Kenya has a real version of the spy James Bond, and her name is Jane. Detective Jane Mugo is the countrys most famous and controversial private investigator. She says shes solved hundreds of crimes, … [+149 chars]'}, {'source': {'id': None, 'name': 'Yahoo Entertainment'}, 'author': 'Associated Press', 'title': 'Head-on crash kills 7 kids, 2 adults in Central California', 'description': \"Seven children and two adult drivers were killed in head-on collision in Central California on New Year's Day, authorities said.  The children, who were...\", 'url': 'https://news.yahoo.com/head-crash-kills-7-kids-003630838.html', 'urlToImage': 'https://s.yimg.com/cv/apiv2/social/images/yahoo_default_logo-1200x1200.png', 'publishedAt': '2021-01-03T00:36:30Z', 'content': 'Jon Ossoff has billed himself as a hard-hitting investigative journalist, orchestrating exposés on corruption, organized crime, and war crimes as CEO of the documentary film company Insight TWI. But … [+12590 chars]'}, {'source': {'id': None, 'name': 'New York Times'}, 'author': 'Sam Anderson', 'title': 'The Last Two Northern White Rhinos On Earth', 'description': 'What will we lose when Najin and Fatu die?', 'url': 'https://www.nytimes.com/2021/01/06/magazine/the-last-two-northern-white-rhinos-on-earth.html', 'urlToImage': 'https://static01.nyt.com/images/2021/01/05/magazine/6mag-rhino-videostill/6mag-rhino-videostill-facebookJumbo.jpg', 'publishedAt': '2021-01-06T15:10:04Z', 'content': 'I spent one week out in the field with the girls. I would go to them at dawn and leave when the sun set. It was no time at all, in the scheme of things not even a blink of evolutions eye, and just th… [+4535 chars]'}, {'source': {'id': None, 'name': 'Uncrate.com'}, 'author': 'Uncrate', 'title': 'Sightglass Baragwi AA Coffee', 'description': 'Based in San Francisco, Sightglass Coffee is a Bay Area staple that takes its name from the sight glass viewing window on their vintage coffee roaster. The roaster helps provide standout coffee as well, including this single-origin gem from Kenya....', 'url': 'https://uncrate.com/sightglass-baragwi-aa-coffee/', 'urlToImage': 'https://uncrate.com/p/2021/01/sightglasscoffee.jpg', 'publishedAt': '2021-01-15T21:00:00Z', 'content': 'Squarespace makes any creative idea, business pursuit, artist portfolio, or wedding website a reality. From websites, domains, online stores, marketing tools, and analytics, Squarespace is the all-in… [+260 chars]'}, {'source': {'id': 'reuters', 'name': 'Reuters'}, 'author': 'John Geddie', 'title': \"'No limit' for WHO delegation in month-long Wuhan mission, team member says - Reuters\", 'description': 'A global team of scientists led by the World Health Organisation to investigate the origins of the novel coronavirus will spend around a month in the Chinese city of Wuhan, including two weeks in quarantine, a team member said on Wednesday.', 'url': 'https://www.reuters.com/article/us-health-coronavirus-china-who/no-limit-for-who-delegation-in-month-long-wuhan-mission-team-member-says-idUSKBN29I1KR', 'urlToImage': 'https://static.reuters.com/resources/r/?m=02&d=20210113&t=2&i=1547627892&r=LYNXMPEH0C0W7&w=800', 'publishedAt': '2021-01-13T12:36:00Z', 'content': 'SINGAPORE (Reuters) - A global team of scientists led by the World Health Organisation to investigate the origins of the novel coronavirus will spend around a month in the Chinese city of Wuhan, incl… [+3145 chars]'}, {'source': {'id': 'reuters', 'name': 'Reuters'}, 'author': 'Emma Batha', 'title': 'FACTBOX-What is female genital mutilation? Where is it practised? - Reuters', 'description': 'The United States has strengthened a ban on female genital mutilation (FGM) by imposing tougher penalties and making prosecutions easier - a step campaigners hope will bolster global efforts to eradicate the practice.', 'url': 'https://www.reuters.com/article/rights-women-fgm-idUSL8N2JI4DA', 'urlToImage': 'https://s1.reutersmedia.net/resources_v2/images/rcom-default.png?w=800', 'publishedAt': '2021-01-07T18:12:00Z', 'content': 'By Emma Batha, Thomson Reuters Foundation\\r\\nJan 7 (Thomson Reuters Foundation) - The United States has strengthened a ban on female genital mutilation (FGM) by imposing tougher penalties and making pr… [+2650 chars]'}, {'source': {'id': 'reuters', 'name': 'Reuters'}, 'author': 'Anastasia Moloney', 'title': 'Women work the COVID frontline but lack a voice, poll shows - Reuters', 'description': 'Seven in 10 workers on the frontline of the pandemic are female yet women are left out of many COVID-19 response and recovery plans, according to a global survey published on Thursday.', 'url': 'https://www.reuters.com/article/us-health-coronavirus-women-trfn-idUSKBN29X2JD', 'urlToImage': 'https://s1.reutersmedia.net/resources_v2/images/rcom-default.png?w=800', 'publishedAt': '2021-01-28T17:44:00Z', 'content': 'BOGOTA (Thomson Reuters Foundation) - Seven in 10 workers on the frontline of the pandemic are female yet women are left out of many COVID-19 response and recovery plans, according to a global survey… [+3252 chars]'}, {'source': {'id': 'reuters', 'name': 'Reuters'}, 'author': 'Marc Jones', 'title': \"UPDATE 1-Ethiopia's debt relief request to put other DSSI nations under scrutiny - Morgan Stanley - Reuters\", 'description': \"Ethiopia's request for debt relief in recent days is likely to put other poor countries also eligible for the G20's Debt Service Suspension Initiative (DSSI) under bond market pressure, Morgan Stanley analysts said on Monday.\", 'url': 'https://www.reuters.com/article/ethiopia-debt-morganstanley-idUSL8N2K72Y5', 'urlToImage': 'https://s1.reutersmedia.net/resources_v2/images/rcom-default.png?w=800', 'publishedAt': '2021-02-01T12:52:00Z', 'content': '(Adds details, background, quotes)\\r\\nLONDON, Feb 1 (Reuters) - Ethiopias request for debt relief in recent days is likely to put other poor countries also eligible for the G20s Debt Service Suspension… [+2780 chars]'}, {'source': {'id': 'reuters', 'name': 'Reuters'}, 'author': 'Andrea Shalal', 'title': 'Chad becomes first country to ask for debt overhaul under G20 common framework - Reuters', 'description': 'Chad has officially requested a debt restructuring, the first country to do so under a new common framework agreed by Group of 20 major economies last year, the International Monetary Fund said on Wednesday.', 'url': 'https://www.reuters.com/article/us-chad-debt-idUSKBN29W2MC', 'urlToImage': 'https://s1.reutersmedia.net/resources_v2/images/rcom-default.png?w=800', 'publishedAt': '2021-01-27T19:42:00Z', 'content': 'WASHINGTON (Reuters) - Chad has officially requested a debt restructuring, the first country to do so under a new common framework agreed by Group of 20 major economies last year, the International M… [+3302 chars]'}, {'source': {'id': None, 'name': 'Android Central'}, 'author': 'Anthony Spadafora', 'title': 'How to watch Mixed-ish: Stream the new season online from anywhere', 'description': \"Fans of Black-ish and Grown-ish will get to see exactly what was like for Rainbow 'Bow' Johnson growing up in the 1980s as Mixed-ish is returning for its second season and we have all the details on how you can watch the show on TV or online.\\n\\nWhile Black-ish…\", 'url': 'https://www.androidcentral.com/how-watch-mixed-ish-online-anywhere', 'urlToImage': 'https://www.androidcentral.com/sites/androidcentral.com/files/styles/large/public/article_images/2021/01/mixedish-abc-2.jpg', 'publishedAt': '2021-01-26T12:08:22Z', 'content': \"Fans of Black-ish and Grown-ish will get to see exactly what was like for Rainbow 'Bow' Johnson growing up in the 1980s as Mixed-ish is returning for its second season and we have all the details on … [+5153 chars]\"}, {'source': {'id': None, 'name': 'The New Yorker'}, 'author': 'Jon Lee Anderson', 'title': 'A Kenyan Ecologist’s Crusade to Save Her Country’s Wildlife', 'description': 'To get her fellow-citizens to care about threatened animals, Paula Kahumbu became a TV star, Jon Lee Anderson writes.', 'url': 'https://www.newyorker.com/magazine/2021/02/01/a-kenyan-ecologists-crusade-to-save-her-countrys-wildlife', 'urlToImage': 'https://media.newyorker.com/photos/600b66a0e9a8f41e993ef8b2/16:9/w_1280,c_limit/210201_r37803.jpg', 'publishedAt': '2021-01-25T11:00:00Z', 'content': 'Seventy miles southwest of Nairobi, the Loita Hills climb toward the sky from the red stone cleft of the Great Rift Valley. Situated beside the Serengeti and the Maasai Mara, the Loitas provide a vit… [+14285 chars]'}, {'source': {'id': None, 'name': 'Gizmodo.com'}, 'author': 'George Dvorsky', 'title': 'Human Thumbs Got a Major Upgrade 2 Million Years Ago, Sparking a Cultural Revolution, Study Finds', 'description': 'The human thumb is a marvel of evolution, allowing our ancestors to craft stone tools and radically expand their food choices. New research suggests our agile, dextrous thumbs appeared 2 million years ago, in a development that irrevocably changed the course …', 'url': 'https://gizmodo.com/human-thumbs-got-a-major-upgrade-2-million-years-ago-s-1846150313', 'urlToImage': 'https://i.kinja-img.com/gawker-media/image/upload/c_fill,f_auto,fl_progressive,g_center,h_675,pg_1,q_80,w_1200/uksysxvkvkwtrcjztotx.png', 'publishedAt': '2021-01-28T17:00:00Z', 'content': 'The human thumb is a marvel of evolution, allowing our ancestors to craft stone tools and radically expand their food choices. New research suggests our agile, dextrous thumbs appeared 2 million year… [+7416 chars]'}, {'source': {'id': None, 'name': 'Slate Magazine'}, 'author': 'Aaron Mak', 'title': 'Why Google’s Internet-Beaming Balloons Ran Out of Air', 'description': 'Loon’s technology brought the web to places that lacked it—but that wasn’t nearly enough.', 'url': 'https://slate.com/technology/2021/01/loon-google-alphabet-shuttered.html', 'urlToImage': 'https://compote.slate.com/images/707efbbb-360a-458f-9278-086ec0f5b4e4.jpeg?width=780&height=520&rect=5760x3840&offset=0x0', 'publishedAt': '2021-01-26T16:53:49Z', 'content': 'Alphabet, Googles parent company, announced late last week that it would shut down Loon, a project that used helium balloons to beam internet access to remote areas from the stratosphere. Founded in … [+6756 chars]'}, {'source': {'id': 'al-jazeera-english', 'name': 'Al Jazeera English'}, 'author': 'Abdimalik Abdullahi', 'title': 'Somalia and Kenya still have a road to neighbourly cooperation', 'description': 'Neither Somalia nor Kenya can afford the dispute that led to the severance of ties turning into a protracted crisis.', 'url': 'https://www.aljazeera.com/opinions/2021/1/11/somalia-and-kenya-still-have-a-path-to-neighbourly-cooperation', 'urlToImage': 'https://www.aljazeera.com/wp-content/uploads/2020/11/RTSZT5N.jpg?resize=1200%2C630', 'publishedAt': '2021-01-11T09:05:46Z', 'content': 'In December, Somalia cut diplomatic ties with Kenya accusing it of repeatedly meddling in its internal affairs and violating its sovereignty. The move brought the long-simmering tensions between the … [+9250 chars]'}]}\n"
     ]
    },
    {
     "name": "stdout",
     "output_type": "stream",
     "text": [
      "{'status': 'ok', 'totalResults': 3674, 'articles': [{'source': {'id': None, 'name': 'Phys.Org'}, 'author': 'Science X staff', 'title': 'Airtight corn sacks help fight hunger during the COVID-19 pandemic', 'description': 'Optimized on-farm grain storage boosts food security in sub-Saharan Africa, as an ETH study in Kenya during the COVID-19 pandemic shows.', 'url': 'https://phys.org/news/2021-01-airtight-corn-hunger-covid-pandemic.html', 'urlToImage': 'https://scx2.b-cdn.net/gfx/news/2021/airtightcorn.jpg', 'publishedAt': '2021-01-12T14:30:01Z', 'content': 'Optimized on-farm grain storage boosts food security in sub-Saharan Africa, as an ETH study in Kenya during the COVID-19 pandemic shows.\\r\\nAs the end of the lean season approaches, things get tricky f… [+5129 chars]'}, {'source': {'id': None, 'name': 'digg.com'}, 'author': '', 'title': 'Why Worried Coronavirus Hunters Are Keeping A Close Eye On Camels', 'description': 'In northern Kenya, researchers are working to prevent Mers, a coronavirus ten times deadlier than COVID-19, from jumping from camels to humans again. But climate change is making their job more difficult.', 'url': 'https://digg.com/coronavirus/link/why-worried-coronavirus-hunters-are-keeping-a-close-eye-on-camels-bLPRLLKySV', 'urlToImage': 'https://images.digg.com/aHR0cHM6Ly9jZG4uZGlnZy5jb20vc3VibWl0dGVkLWxpbmtzLzE2MTE2ODk4ODliLmpwZw-730-400.jpg', 'publishedAt': '2021-01-26T20:54:13Z', 'content': None}, {'source': {'id': 'the-hindu', 'name': 'The Hindu'}, 'author': 'PTI', 'title': 'Suspension of scheduled international passenger flights extended till February 28', 'description': 'India has formed air bubble pacts with around 24 countries including the U.S., the U.K., the UAE, Kenya, Bhutan and France.', 'url': 'https://www.thehindu.com/news/national/suspension-of-scheduled-international-passenger-flights-extended-till-february-28/article33686203.ece', 'urlToImage': 'https://www.thehindu.com/static/theme/default/base/img/og-image.jpg', 'publishedAt': '2021-01-28T13:54:25Z', 'content': 'The coronavirus-induced suspension of scheduled international passenger flights has been extended till February 28, aviation regulator DGCA said on Thursday.\\r\\nHowever, international scheduled flights… [+848 chars]'}, {'source': {'id': 'bbc-news', 'name': 'BBC News'}, 'author': 'https://www.facebook.com/bbcnews', 'title': 'Uganda elections 2021: What you need to know', 'description': \"Five things you need to know about Uganda's divisive election.\", 'url': 'https://www.bbc.co.uk/news/world-africa-55573581', 'urlToImage': 'https://ichef.bbci.co.uk/news/1024/branded_news/4A09/production/_116435981_uganda.jpg', 'publishedAt': '2021-01-12T00:15:00Z', 'content': 'image copyrightGetty Images\\r\\nimage captionBobi Wine, left, is among challengers to long-time leader Yoweri Museveni, right\\r\\nOn Thursday Ugandans will vote in a general election after a campaign marke… [+7066 chars]'}, {'source': {'id': None, 'name': 'Android Police'}, 'author': 'Prasham Parikh', 'title': 'Alphabet’s Project Loon goes down like a lead balloon', 'description': 'Downfall caused by failure to achieve commercial viability\\n\\nAs the old adage says, \"what goes up must come down,\" and that\\'s literally what\\'s happening to Project Loon. Alphabet\\'s X subsidiary (formerly Google X) was responsible for the idea of beaming intern…', 'url': 'https://www.androidpolice.com/2021/01/22/alphabets-project-loon-goes-down-like-a-lead-balloon/', 'urlToImage': 'https://www.androidpolice.com/wp-content/uploads/2021/01/22/Project-Loon-scaled.jpeg', 'publishedAt': '2021-01-22T11:48:40Z', 'content': 'As the old adage says, \"what goes up must come down,\" and that\\'s literally what\\'s happening to Project Loon. Alphabet\\'s X subsidiary (formerly Google X) was responsible for the idea of beaming intern… [+1144 chars]'}, {'source': {'id': 'bbc-news', 'name': 'BBC News'}, 'author': 'https://www.facebook.com/bbcnews', 'title': 'The schoolboy who witnessed a colonial massacre', 'description': 'The shooting dead of striking miners in 1949 continues to have resonance in Nigeria today.', 'url': 'https://www.bbc.co.uk/news/world-africa-55618418', 'urlToImage': 'https://ichef.bbci.co.uk/news/1024/branded_news/3AA8/production/_116561051_godwin.jpg', 'publishedAt': '2021-01-19T00:49:58Z', 'content': \"Complaints about brutal policing in Nigeria today echo the reaction to the shooting dead by colonial policemen of striking coalminers in 1949 and, as the BBC's Nduka Orjinmo reports, there are some w… [+7036 chars]\"}, {'source': {'id': None, 'name': 'New York Times'}, 'author': 'Nicolas Rapold', 'title': '‘Softie’ Review: Battling for Votes in Kenya', 'description': 'In this political documentary, the activist and photographer Boniface “Softie” Mwangi runs for office in a quixotic struggle against a corrupt system and a legacy of election violence.', 'url': 'https://www.nytimes.com/2021/01/28/movies/softie-review.html', 'urlToImage': 'https://static01.nyt.com/images/2021/01/27/arts/softie1/softie1-facebookJumbo.jpg', 'publishedAt': '2021-01-28T12:00:07Z', 'content': 'As a photographer, Boniface Softie Mwangi made his name recording the carnage of Kenyas postelection violence in 2007 (including work published in this paper). Embracing activism, he agitated for ref… [+776 chars]'}, {'source': {'id': 'bloomberg', 'name': 'Bloomberg'}, 'author': None, 'title': 'Kenya Economy Slumps Into Recession on Third Quarter Contraction', 'description': None, 'url': 'https://www.bloomberg.com/news/articles/2021-01-28/kenya-economy-slumps-into-recession-on-third-quarter-contraction', 'urlToImage': None, 'publishedAt': '2021-01-28T05:40:39Z', 'content': None}, {'source': {'id': 'bloomberg', 'name': 'Bloomberg'}, 'author': None, 'title': \"Canada Lawmaker Seeks Probe of WE Charity's Kenya Operations\", 'description': None, 'url': 'https://www.bloomberg.com/news/articles/2021-01-12/canada-lawmaker-seeks-probe-of-we-charity-s-kenya-operations', 'urlToImage': None, 'publishedAt': '2021-01-12T15:57:29Z', 'content': None}, {'source': {'id': 'bloomberg', 'name': 'Bloomberg'}, 'author': None, 'title': 'Kenya Beats Back Fresh Wave of Desert Locust Invasions', 'description': None, 'url': 'https://www.bloomberg.com/news/articles/2021-01-22/kenya-beats-back-fresh-wave-of-desert-locust-invasions', 'urlToImage': None, 'publishedAt': '2021-01-22T09:00:43Z', 'content': None}, {'source': {'id': 'reuters', 'name': 'Reuters'}, 'author': 'Marc Jones, Karin Strohecker', 'title': \"Analysis: Is the 'free ride' over for poor countries' bondholders? - Reuters\", 'description': \"One year into the coronavirus pandemic, Ethiopia looks set to become a test case for how the world's poorest countries deal with huge debt increases as the crisis bites.\", 'url': 'https://www.reuters.com/article/ethiopia-debt-g20-analysis-int-idUSKBN2A22J8', 'urlToImage': 'https://s1.reutersmedia.net/resources_v2/images/rcom-default.png?w=800', 'publishedAt': '2021-02-02T18:34:00Z', 'content': 'LONDON (Reuters) - One year into the coronavirus pandemic, Ethiopia looks set to become a test case for how the worlds poorest countries deal with huge debt increases as the crisis bites.\\r\\nIt could b… [+4585 chars]'}, {'source': {'id': None, 'name': 'Yahoo Entertainment'}, 'author': 'Lucy Fisher', 'title': 'The military commander tasked with speeding up Covid vaccine roll-out', 'description': 'The military commander behind the lightning-fast construction of the NHS Nightingale hospitals is now leading the Armed Forces’ bid to speed up the...', 'url': 'https://news.yahoo.com/military-commander-tasked-speeding-covid-172252789.html', 'urlToImage': 'https://s.yimg.com/ny/api/res/1.2/KJ2LEirXHZaAoJzOrwun6Q--/YXBwaWQ9aGlnaGxhbmRlcjt3PTIwMDA7aD0xMjUw/https://s.yimg.com/uu/api/res/1.2/vzvjMhOLAirtOTy8vDZ5AA--~B/aD0xNDQxO3c9MjMwNTthcHBpZD15dGFjaHlvbg--/https://media.zenfs.com/en-GB/the_telegraph_258/78fb87c807bb03a7da4afc4e69d95697', 'publishedAt': '2021-01-07T17:22:52Z', 'content': 'UK Army logistics commander Brigadier Phil Prosser - Tayfun Coskun/Anadolu Agency \\r\\nThe military commander behind the lightning-fast construction of the NHS Nightingale hospitals is now leading the A… [+2964 chars]'}, {'source': {'id': None, 'name': 'INSIDER'}, 'author': 'Taylor Ardrey', 'title': 'A Kentucky lottery player won $2 million after using the same set of numbers he saw a character use in a movie, reports say', 'description': 'The anonymous man has been playing the same set of numbers for years and finally won the $2 million prize.', 'url': 'https://www.insider.com/kentucky-man-won-lottery-after-using-numbers-from-movie-2021-1', 'urlToImage': 'https://s.yimg.com/ny/api/res/1.2/SrcxgPT_51iFmkTbgcrFsA--/YXBwaWQ9aGlnaGxhbmRlcjt3PTIwMDA7aD0xNTAw/https://s.yimg.com/uu/api/res/1.2/3m35R1utmlYKHrxL2cMsGw--~B/aD0yMjUwO3c9MzAwMDthcHBpZD15dGFjaHlvbg--/https://media.zenfs.com/en/insider_articles_922/3763a36f7198051d315ff5f2c9aea9ee', 'publishedAt': '2021-01-02T17:39:56Z', 'content': 'Jon Ossoff has billed himself as a hard-hitting investigative journalist, orchestrating exposés on corruption, organized crime, and war crimes as CEO of the documentary film company Insight TWI. But … [+12590 chars]'}, {'source': {'id': None, 'name': 'Yahoo Entertainment'}, 'author': \"Tim O'Donnell\", 'title': 'U.S. officials are reportedly privately worried Russia stole blueprints for U.S. blackout restoration', 'description': 'In public. American officials have said they do not believe Russia\\'s SVR intelligence agency \"pierced\" classified systems and stole sensitive communications ...', 'url': 'https://news.yahoo.com/u-officials-reportedly-privately-worried-190000434.html', 'urlToImage': 'https://s.yimg.com/uu/api/res/1.2/EuA4gK_oWvsZPdDefSqfGw--~B/aD01NjA7dz04NDA7YXBwaWQ9eXRhY2h5b24-/https://media.zenfs.com/en/the_week_574/fd1ec1702a50b470e663d6722232ed7d', 'publishedAt': '2021-01-02T19:00:00Z', 'content': 'Jon Ossoff has billed himself as a hard-hitting investigative journalist, orchestrating exposés on corruption, organized crime, and war crimes as CEO of the documentary film company Insight TWI. But … [+12590 chars]'}, {'source': {'id': None, 'name': 'Yahoo Entertainment'}, 'author': \"Tim O'Donnell\", 'title': 'Fauci not in favor of expanding gap between COVID-19 vaccine doses', 'description': 'Dr. Anthony Fauci, the United States\\' leading infectious disease expert, told CNN on Friday that he would \"not be in favor\" of delaying second doses of the...', 'url': 'https://news.yahoo.com/fauci-not-favor-expanding-gap-152722835.html', 'urlToImage': 'https://s.yimg.com/uu/api/res/1.2/ixKsz5pDWxm11X6PEXiBvw--~B/aD01NjA7dz04NDA7YXBwaWQ9eXRhY2h5b24-/https://media.zenfs.com/en/the_week_574/d2dc186d1f8deee4ebd031831ccaca72', 'publishedAt': '2021-01-02T15:27:22Z', 'content': 'Jon Ossoff has billed himself as a hard-hitting investigative journalist, orchestrating exposés on corruption, organized crime, and war crimes as CEO of the documentary film company Insight TWI. But … [+12590 chars]'}, {'source': {'id': 'vice-news', 'name': 'Vice News'}, 'author': 'Nick Turse, Leah Feiger', 'title': \"Trump's Chaotic Non-Withdrawal From Somalia Leaves Civilians At Risk\", 'description': \"Formerly secret documents show that the recent directive disrupts plans to further entrench the U.S. in Somalia—and civilians will still be in harm's way.\", 'url': 'https://www.vice.com/en/article/n7vqdk/trumps-chaotic-non-withdrawal-from-somalia-leaves-civilians-at-risk', 'urlToImage': 'https://video-images.vice.com/articles/5fff1824f1a8bc009d06249b/lede/1610553492634-gettyimages-973401018.jpeg?image-resize-opts=Y3JvcD0xeHc6MC44NDQzeGg7MHh3LDB4aCZyZXNpemU9MTIwMDoqJnJlc2l6ZT0xMjAwOio', 'publishedAt': '2021-01-13T17:25:41Z', 'content': 'In the wake of the assault on the U.S. Capitol by a violent mob incited by President Trump, this and other lame-duck orders have been all but forgotten, but exclusive and formerly secret 2020 U.S. Af… [+15110 chars]'}, {'source': {'id': None, 'name': 'New York Times'}, 'author': 'Holland Cotter', 'title': 'The Enduring Legacy of the Kamoinge Workshop, Finally in the Spotlight', 'description': 'At the Whitney Museum, the enduring legacy of the Kamoinge photography collective — 14 distinctive talents finally in the spotlight.', 'url': 'https://www.nytimes.com/2021/01/13/arts/design/black-kamoinge-photographer-whitney.html', 'urlToImage': 'https://static01.nyt.com/images/2021/01/14/arts/14kamoinge-cotter11/14kamoinge-cotter11-facebookJumbo-v2.jpg', 'publishedAt': '2021-01-13T19:23:08Z', 'content': 'Its only fairly recently that the mainstream art world, which likes to think of itself as progressive, has fully begun to embrace the idea that Black art matters. Even a few decades ago, if you were … [+9011 chars]'}, {'source': {'id': None, 'name': 'Quartz India'}, 'author': 'Socrates Mbamalu', 'title': 'Google’s ambitious Loon internet balloon project has crash-landed', 'description': '\"The road to commercial viability has proven much longer and riskier than hoped.\"', 'url': 'https://qz.com/africa/1961328/why-googles-loon-internet-balloon-project-crash-landed/', 'urlToImage': 'https://cms.qz.com/wp-content/uploads/2021/01/A-Loon-balloon-aloft-New-Zealand-2013-e1611329815422.jpg?quality=75&strip=all&w=1200&h=630&crop=1', 'publishedAt': '2021-01-22T16:19:55Z', 'content': 'In the world of Big Tech there has long been a important obsession about getting the internet to the next billion people. The idea was that while a few billion people in mostly advanced and wealthy e… [+2647 chars]'}, {'source': {'id': 'al-jazeera-english', 'name': 'Al Jazeera English'}, 'author': 'Al Jazeera', 'title': 'Somali troops, Jubbaland regional forces clash ahead of elections', 'description': \"Mogadishu accuses Nairobi of supporting 'rebels' as fighting breaks out in the town of Bulo Hawo ahead of elections.\", 'url': 'https://www.aljazeera.com/news/2021/1/25/somali-troops-jubbaland-regional-forces-battle-near-kenya-border', 'urlToImage': 'https://www.aljazeera.com/wp-content/uploads/2020/09/122f1f589f3e460b8642af726e76c2c2_18.jpeg?fit=1000%2C561', 'publishedAt': '2021-01-25T08:43:02Z', 'content': 'Heavy fighting has broken out in the town of Bulo Hawo between Somali forces and those from the federal territory of Jubbaland, which borders Kenya, ahead of general elections slated for next month.\\r… [+1826 chars]'}, {'source': {'id': None, 'name': 'Science Daily'}, 'author': None, 'title': 'Divergences between scientific and Indigenous and Local Knowledge can be helpful', 'description': 'Divergences between scientific and Indigenous and Local Knowledge can provide a better understanding of why local pastoralists may be willing, or not, to participate in conservation initiatives for carnivores, a study suggests.', 'url': 'https://www.sciencedaily.com/releases/2021/01/210115110327.htm', 'urlToImage': 'https://www.sciencedaily.com/images/scidaily-icon.png', 'publishedAt': '2021-01-15T16:03:27Z', 'content': 'Divergences between scientific and Indigenous and Local Knowledge can provide a better understanding of why local pastoralists may be willing, or not, to participate in conservation initiatives for c… [+3933 chars]'}]}\n"
     ]
    },
    {
     "name": "stdout",
     "output_type": "stream",
     "text": [
      "{'status': 'error', 'code': 'maximumResultsReached', 'message': 'You have requested too many results. Developer accounts are limited to a max of 100 results. You are trying to request results 100 to 120. Please upgrade to a paid plan if you need more results.'}\n"
     ]
    },
    {
     "ename": "KeyError",
     "evalue": "'articles'",
     "output_type": "error",
     "traceback": [
      "\u001b[0;31m---------------------------------------------------------------------------\u001b[0m",
      "\u001b[0;31mKeyError\u001b[0m                                  Traceback (most recent call last)",
      "\u001b[0;32m<ipython-input-128-91f5961c591e>\u001b[0m in \u001b[0;36m<module>\u001b[0;34m\u001b[0m\n\u001b[1;32m      7\u001b[0m     \u001b[0mcontent\u001b[0m \u001b[0;34m=\u001b[0m \u001b[0mjson\u001b[0m\u001b[0;34m.\u001b[0m\u001b[0mloads\u001b[0m\u001b[0;34m(\u001b[0m\u001b[0mresponse\u001b[0m\u001b[0;34m.\u001b[0m\u001b[0mtext\u001b[0m\u001b[0;34m)\u001b[0m\u001b[0;34m\u001b[0m\u001b[0;34m\u001b[0m\u001b[0m\n\u001b[1;32m      8\u001b[0m     \u001b[0mprint\u001b[0m\u001b[0;34m(\u001b[0m\u001b[0mcontent\u001b[0m\u001b[0;34m)\u001b[0m\u001b[0;34m\u001b[0m\u001b[0;34m\u001b[0m\u001b[0m\n\u001b[0;32m----> 9\u001b[0;31m     \u001b[0marticles\u001b[0m\u001b[0;34m.\u001b[0m\u001b[0mappend\u001b[0m\u001b[0;34m(\u001b[0m\u001b[0mcontent\u001b[0m\u001b[0;34m[\u001b[0m\u001b[0;34m'articles'\u001b[0m\u001b[0;34m]\u001b[0m\u001b[0;34m)\u001b[0m\u001b[0;34m\u001b[0m\u001b[0;34m\u001b[0m\u001b[0m\n\u001b[0m\u001b[1;32m     10\u001b[0m     \u001b[0mi\u001b[0m \u001b[0;34m+=\u001b[0m \u001b[0;36m1\u001b[0m\u001b[0;34m\u001b[0m\u001b[0;34m\u001b[0m\u001b[0m\n",
      "\u001b[0;31mKeyError\u001b[0m: 'articles'"
     ]
    }
   ],
   "source": [
    "i = 1\n",
    "articles = []\n",
    "\n",
    "while i < 10:\n",
    "    url = ('https://newsapi.org/v2/everything?q=kenya&page=' + str(i) + '&apiKey=60bbdbe19109465499b815e5bf99758f')\n",
    "    response = requests.get(url)\n",
    "    content = json.loads(response.text)\n",
    "    print(content)\n",
    "    articles.append(content['articles'])\n",
    "    i += 1"
   ]
  },
  {
   "cell_type": "code",
   "execution_count": 119,
   "metadata": {},
   "outputs": [
    {
     "data": {
      "text/plain": [
       "100"
      ]
     },
     "execution_count": 119,
     "metadata": {},
     "output_type": "execute_result"
    }
   ],
   "source": [
    "flat_list = [item for sublist in articles for item in sublist]\n",
    "len(flat_list)"
   ]
  },
  {
   "cell_type": "code",
   "execution_count": 3,
   "metadata": {},
   "outputs": [],
   "source": [
    "def remove_stopwords(s):\n",
    "    stop_words = get_stop_words('en')\n",
    "    s = ' '.join(word for word in s.split() if word not in stop_words)\n",
    "    return s"
   ]
  },
  {
   "cell_type": "code",
   "execution_count": 121,
   "metadata": {},
   "outputs": [],
   "source": [
    "def preprocessor(text):\n",
    "    # Converting to Lowercase\n",
    "    text = str(text).lower()\n",
    "    # Removing punctuation\n",
    "    text = re.sub(r'[^\\w\\s]', '', text)\n",
    "    # Removing links\n",
    "    text = re.sub(r'http\\S+', '', text)\n",
    "    # Removing stop words\n",
    "    text = remove_stopwords(text)\n",
    "    return text"
   ]
  },
  {
   "cell_type": "code",
   "execution_count": 122,
   "metadata": {
    "scrolled": true
   },
   "outputs": [
    {
     "name": "stdout",
     "output_type": "stream",
     "text": [
      "Could a vaccine get rid of malaria for good?\n",
      "Top Photos of the Day | Reuters.com - Reuters India\n",
      "The Burundian refugee soap maker who is fighting coronavirus in Kenya\n",
      "Paris Club of international creditors accept Kenya debt relief request - Reuters\n",
      "Kenya extends night curfew to March to curb COVID-19 spread - Reuters India\n",
      "Kenya extends night curfew to March to curb COVID-19 spread - Reuters\n",
      "Kenya extends night curfew to March to curb COVID-19 spread - Reuters India\n",
      "Kenya extends night curfew to March to curb COVID-19 spread - Reuters India\n",
      "Kenya private sector activity inches up in December -PMI - Reuters\n",
      "Kenya braces for return of devastating locust swarms - Reuters\n",
      "Kenya braces for return of devastating locust swarms - Reuters\n",
      "Kenya expects 24 million COVID-19 vaccine doses to start arriving next month - Reuters India\n",
      "UPDATE 1-Kenya Airways plans more pay cuts due to pandemic -memo - Reuters\n",
      "Kenya drops charges against officials due to testify against ex-finance minister - Reuters\n",
      "Parents worry as crowded Kenyan schools reopen after coronavirus shutdown - Reuters India\n",
      "Britain helps Kenya prepare for roll-out of COVID-19 vaccine - Reuters\n",
      "UPDATE 1-Kenya aims to vaccinate 16 million people against COVID-19 by June 2022 - Reuters\n",
      "Kenya to cut fiscal deficit in 2021/22 to 7.5% of GDP, Treasury says - Reuters\n",
      "Kenya's new car sales drop by 16% in 2020 on coronavirus crisis - Reuters\n",
      "Kenya's remittance inflows jump by nearly 11% in 2020 to $3 billion - cenbank - Reuters\n",
      "Kenya to save 27 billion shilling from China debt service suspension deal - Reuters\n",
      "Kenya reports two cases of new coronavirus variant first seen in South Africa - Reuters\n",
      "Kenya expects 24 million COVID-19 vaccine doses to start arriving next month - Reuters India\n",
      "Kenya drops charges against officials due to testify against ex-finance minister - Reuters\n",
      "Kenya drops charges against officials due to testify against ex-finance minister - Reuters Africa\n",
      "Kenya reports two cases of new coronavirus variant first seen in South Africa - Reuters\n",
      "6 Park Rangers Killed in Congo Gorilla Reserve Ambush\n",
      "Locust Swarms Threaten Parts Of East Africa\n",
      "Parents worry as crowded Kenyan schools reopen after coronavirus shutdown - Reuters India\n",
      "Three lives, one message: Stop killing Mexico's transgender women\n",
      "6 Park Rangers Ambushed and Killed in Congo Gorilla Reserve\n",
      "At least 11 killed after fighting erupts in Somalia's Jubbaland: doctor - Reuters\n",
      "East African Breweries sees recovery gaining pace in second half - Reuters\n",
      "Kenya Airways plans further pay cuts over COVID-19 pandemic, paper says - Reuters\n",
      "Alphabet pulls the plug on its ambitious Loon internet balloon project\n",
      "Church of England head says EU vaccine stance undercuts its ethics - Reuters\n",
      "Athletics-Kandie gunning for 10,000m glory for Kenya in Tokyo - Reuters\n",
      "Kenya private sector activity inches up in December -PMI - Reuters India\n",
      "IMF hopes to present Kenya program to its board in early 2021 - Reuters\n",
      "UPDATE 1-Kenya central bank holds main lending rate for sixth time in a row - Reuters\n",
      "Kandie gunning for 10,000m glory for Kenya in Tokyo - Reuters UK\n",
      "Women’s and Under-20s Six Nations to start in 'spring or summer', say organisers\n",
      "UPDATE 1-Airtel Africa to focus on current markets, will not bid for licences in Ethiopia - CEO - Reuters\n",
      "Airtel Africa to focus on current markets, will not bid for licences in Ethiopia - CEO - Reuters\n",
      "Scientists produce embryos in race to save northern white rhino from extinction - Reuters\n",
      "Scientists produce embryos in race to save northern white rhino from extinction - Reuters\n",
      "Coronavirus: Kenya reopens schools after nine months\n",
      "Is The Pandemic Causing A Surge In Female Genital Mutilation?\n",
      "Biden is Rescinding the ‘Global Gag Rule’ on Abortions Abroad. But Undoing Trump’s Effects Will Take Time\n",
      "Ethiopia's Oromia conflict: Why a teacher was killed 'execution-style'\n",
      "Nigeria to repay $500 million Eurobond, eyes debt market - Reuters\n",
      "Decrying vaccines, Tanzania leader says 'God will protect' from COVID-19 - Reuters\n",
      "The Upside to Screen Time\n",
      "Kenyan recycles plastic waste into bricks stronger than concrete - Reuters\n",
      "Microsoft earnings in spotlight for signs of business recovery, Xbox growth - Reuters\n",
      "EMBARGOED-Remittance flows in 2021 may not be as slim as feared -study - Reuters\n",
      "Google cracks down on payday loan apps in India after reports of abuse\n",
      "Loon’s bubble bursts—Alphabet shuts down Internet balloon company\n",
      "‘They Absolutely Do Not Believe Their Own Bullshit, but It’s Useful for Them to Pretend They Do.’\n",
      "African edtech startup uLesson lands a $7.5 million Series A\n",
      "African free trade tariff rules should be completed by July-official - Reuters\n",
      "African free trade tariff rules should be completed by July-official - Reuters\n",
      "Tech investors eye Africa's education and financial sectors - Reuters\n",
      "African free trade tariff rules should be completed by July-official - Reuters\n",
      "Tech investors eye Africa's education and financial sectors - Reuters\n",
      "Female Genital Cutting Is on the Rise During COVID in Kenya\n",
      "Detective Jane Mugo: Meet Kenya's 'spy queen'\n",
      "Head-on crash kills 7 kids, 2 adults in Central California\n",
      "The Last Two Northern White Rhinos On Earth\n",
      "Sightglass Baragwi AA Coffee\n",
      "'No limit' for WHO delegation in month-long Wuhan mission, team member says - Reuters\n",
      "FACTBOX-What is female genital mutilation? Where is it practised? - Reuters\n",
      "Women work the COVID frontline but lack a voice, poll shows - Reuters\n",
      "UPDATE 1-Ethiopia's debt relief request to put other DSSI nations under scrutiny - Morgan Stanley - Reuters\n",
      "Chad becomes first country to ask for debt overhaul under G20 common framework - Reuters\n",
      "How to watch Mixed-ish: Stream the new season online from anywhere\n",
      "A Kenyan Ecologist’s Crusade to Save Her Country’s Wildlife\n",
      "Human Thumbs Got a Major Upgrade 2 Million Years Ago, Sparking a Cultural Revolution, Study Finds\n",
      "Why Google’s Internet-Beaming Balloons Ran Out of Air\n",
      "Somalia and Kenya still have a road to neighbourly cooperation\n",
      "Airtight corn sacks help fight hunger during the COVID-19 pandemic\n",
      "Why Worried Coronavirus Hunters Are Keeping A Close Eye On Camels\n",
      "Suspension of scheduled international passenger flights extended till February 28\n",
      "Uganda elections 2021: What you need to know\n",
      "Alphabet’s Project Loon goes down like a lead balloon\n",
      "The schoolboy who witnessed a colonial massacre\n",
      "‘Softie’ Review: Battling for Votes in Kenya\n",
      "Kenya Economy Slumps Into Recession on Third Quarter Contraction\n",
      "Canada Lawmaker Seeks Probe of WE Charity's Kenya Operations\n",
      "Kenya Beats Back Fresh Wave of Desert Locust Invasions\n",
      "Analysis: Is the 'free ride' over for poor countries' bondholders? - Reuters\n",
      "The military commander tasked with speeding up Covid vaccine roll-out\n",
      "A Kentucky lottery player won $2 million after using the same set of numbers he saw a character use in a movie, reports say\n",
      "U.S. officials are reportedly privately worried Russia stole blueprints for U.S. blackout restoration\n",
      "Fauci not in favor of expanding gap between COVID-19 vaccine doses\n",
      "Trump's Chaotic Non-Withdrawal From Somalia Leaves Civilians At Risk\n",
      "The Enduring Legacy of the Kamoinge Workshop, Finally in the Spotlight\n",
      "Google’s ambitious Loon internet balloon project has crash-landed\n",
      "Somali troops, Jubbaland regional forces clash ahead of elections\n",
      "Divergences between scientific and Indigenous and Local Knowledge can be helpful\n"
     ]
    }
   ],
   "source": [
    "upper_frame = []\n",
    "\n",
    "for article in flat_list:\n",
    "    frame = []\n",
    "    source_name = article['source']['name']\n",
    "    title = article['title']\n",
    "\n",
    "    try:\n",
    "        text = article['content'] + ' ' + article['description']\n",
    "    except Exception as e: \n",
    "        text = 'empty' \n",
    "        \n",
    "        \n",
    "    total = [preprocessor(title + text)]\n",
    "    prediction = pipeline.predict(total)\n",
    "    prediction = prediction.tolist()\n",
    "    prediction = prediction[0]\n",
    "    frame.append([source_name, title, text, prediction])\n",
    "    upper_frame.extend(frame)\n",
    "    print(title)"
   ]
  },
  {
   "cell_type": "code",
   "execution_count": 123,
   "metadata": {},
   "outputs": [],
   "source": [
    "predicted_newsapi = pd.DataFrame(upper_frame, columns=['Source', 'Title', 'Text', 'Prediction'])"
   ]
  },
  {
   "cell_type": "code",
   "execution_count": 124,
   "metadata": {},
   "outputs": [
    {
     "data": {
      "text/html": [
       "<div>\n",
       "<style scoped>\n",
       "    .dataframe tbody tr th:only-of-type {\n",
       "        vertical-align: middle;\n",
       "    }\n",
       "\n",
       "    .dataframe tbody tr th {\n",
       "        vertical-align: top;\n",
       "    }\n",
       "\n",
       "    .dataframe thead th {\n",
       "        text-align: right;\n",
       "    }\n",
       "</style>\n",
       "<table border=\"1\" class=\"dataframe\">\n",
       "  <thead>\n",
       "    <tr style=\"text-align: right;\">\n",
       "      <th></th>\n",
       "      <th>Source</th>\n",
       "      <th>Title</th>\n",
       "      <th>Text</th>\n",
       "      <th>Prediction</th>\n",
       "    </tr>\n",
       "  </thead>\n",
       "  <tbody>\n",
       "    <tr>\n",
       "      <th>0</th>\n",
       "      <td>BBC News</td>\n",
       "      <td>Could a vaccine get rid of malaria for good?</td>\n",
       "      <td>Seventeen-year-old Victoline was hospitalised ...</td>\n",
       "      <td>0.0</td>\n",
       "    </tr>\n",
       "    <tr>\n",
       "      <th>1</th>\n",
       "      <td>Reuters</td>\n",
       "      <td>Top Photos of the Day | Reuters.com - Reuters ...</td>\n",
       "      <td>Reuters, the news and media division of Thomso...</td>\n",
       "      <td>1.0</td>\n",
       "    </tr>\n",
       "    <tr>\n",
       "      <th>2</th>\n",
       "      <td>BBC News</td>\n",
       "      <td>The Burundian refugee soap maker who is fighti...</td>\n",
       "      <td>By Fernando DuarteBBC World Service\\r\\nimage c...</td>\n",
       "      <td>0.0</td>\n",
       "    </tr>\n",
       "    <tr>\n",
       "      <th>3</th>\n",
       "      <td>Reuters</td>\n",
       "      <td>Paris Club of international creditors accept K...</td>\n",
       "      <td>By Reuters Staff\\r\\nLONDON (Reuters) - The Par...</td>\n",
       "      <td>0.0</td>\n",
       "    </tr>\n",
       "    <tr>\n",
       "      <th>4</th>\n",
       "      <td>Reuters</td>\n",
       "      <td>Kenya extends night curfew to March to curb CO...</td>\n",
       "      <td>By Reuters Staff\\r\\nFILE PHOTO: A health worke...</td>\n",
       "      <td>0.0</td>\n",
       "    </tr>\n",
       "  </tbody>\n",
       "</table>\n",
       "</div>"
      ],
      "text/plain": [
       "     Source                                              Title  \\\n",
       "0  BBC News       Could a vaccine get rid of malaria for good?   \n",
       "1   Reuters  Top Photos of the Day | Reuters.com - Reuters ...   \n",
       "2  BBC News  The Burundian refugee soap maker who is fighti...   \n",
       "3   Reuters  Paris Club of international creditors accept K...   \n",
       "4   Reuters  Kenya extends night curfew to March to curb CO...   \n",
       "\n",
       "                                                Text  Prediction  \n",
       "0  Seventeen-year-old Victoline was hospitalised ...         0.0  \n",
       "1  Reuters, the news and media division of Thomso...         1.0  \n",
       "2  By Fernando DuarteBBC World Service\\r\\nimage c...         0.0  \n",
       "3  By Reuters Staff\\r\\nLONDON (Reuters) - The Par...         0.0  \n",
       "4  By Reuters Staff\\r\\nFILE PHOTO: A health worke...         0.0  "
      ]
     },
     "execution_count": 124,
     "metadata": {},
     "output_type": "execute_result"
    }
   ],
   "source": [
    "predicted_newsapi.head()"
   ]
  },
  {
   "cell_type": "code",
   "execution_count": 127,
   "metadata": {},
   "outputs": [
    {
     "data": {
      "text/plain": [
       "0.0    89\n",
       "1.0    11\n",
       "Name: Prediction, dtype: int64"
      ]
     },
     "execution_count": 127,
     "metadata": {},
     "output_type": "execute_result"
    }
   ],
   "source": [
    "predicted_newsapi['Prediction'].value_counts()"
   ]
  },
  {
   "cell_type": "code",
   "execution_count": 126,
   "metadata": {
    "scrolled": true
   },
   "outputs": [
    {
     "data": {
      "text/plain": [
       "Reuters                54\n",
       "BBC News                9\n",
       "New York Times          6\n",
       "Yahoo Entertainment     4\n",
       "Android Central         3\n",
       "Bloomberg               3\n",
       "NPR                     2\n",
       "Al Jazeera English      2\n",
       "Vice News               2\n",
       "@tucson_police          1\n",
       "TechCrunch              1\n",
       "Science Daily           1\n",
       "Phys.Org                1\n",
       "Time                    1\n",
       "INSIDER                 1\n",
       "Slate Magazine          1\n",
       "The New Yorker          1\n",
       "digg.com                1\n",
       "Quartz India            1\n",
       "Uncrate.com             1\n",
       "The Hindu               1\n",
       "Ars Technica            1\n",
       "Android Police          1\n",
       "Gizmodo.com             1\n",
       "Name: Source, dtype: int64"
      ]
     },
     "execution_count": 126,
     "metadata": {},
     "output_type": "execute_result"
    }
   ],
   "source": [
    "predicted_newsapi['Source'].value_counts()"
   ]
  },
  {
   "cell_type": "markdown",
   "metadata": {},
   "source": [
    "# Twitter API"
   ]
  },
  {
   "cell_type": "code",
   "execution_count": 130,
   "metadata": {
    "collapsed": true
   },
   "outputs": [
    {
     "name": "stdout",
     "output_type": "stream",
     "text": [
      "Collecting tweepy\n",
      "  Downloading tweepy-3.10.0-py2.py3-none-any.whl (30 kB)\n",
      "Requirement already satisfied: requests-oauthlib>=0.7.0 in /home/jaden/anaconda3/lib/python3.8/site-packages (from tweepy) (1.3.0)\n",
      "Requirement already satisfied: six>=1.10.0 in /home/jaden/anaconda3/lib/python3.8/site-packages (from tweepy) (1.15.0)\n",
      "Requirement already satisfied: requests[socks]>=2.11.1 in /home/jaden/anaconda3/lib/python3.8/site-packages (from tweepy) (2.24.0)\n",
      "Requirement already satisfied: oauthlib>=3.0.0 in /home/jaden/anaconda3/lib/python3.8/site-packages (from requests-oauthlib>=0.7.0->tweepy) (3.1.0)\n",
      "Requirement already satisfied: urllib3!=1.25.0,!=1.25.1,<1.26,>=1.21.1 in /home/jaden/anaconda3/lib/python3.8/site-packages (from requests[socks]>=2.11.1->tweepy) (1.25.11)\n",
      "Requirement already satisfied: chardet<4,>=3.0.2 in /home/jaden/anaconda3/lib/python3.8/site-packages (from requests[socks]>=2.11.1->tweepy) (3.0.4)\n",
      "Requirement already satisfied: certifi>=2017.4.17 in /home/jaden/anaconda3/lib/python3.8/site-packages (from requests[socks]>=2.11.1->tweepy) (2020.6.20)\n",
      "Requirement already satisfied: idna<3,>=2.5 in /home/jaden/anaconda3/lib/python3.8/site-packages (from requests[socks]>=2.11.1->tweepy) (2.10)\n",
      "Requirement already satisfied: PySocks!=1.5.7,>=1.5.6; extra == \"socks\" in /home/jaden/anaconda3/lib/python3.8/site-packages (from requests[socks]>=2.11.1->tweepy) (1.7.1)\n",
      "Installing collected packages: tweepy\n",
      "Successfully installed tweepy-3.10.0\n"
     ]
    }
   ],
   "source": [
    "!pip install tweepy"
   ]
  },
  {
   "cell_type": "code",
   "execution_count": 4,
   "metadata": {
    "scrolled": true
   },
   "outputs": [],
   "source": [
    "import tweepy"
   ]
  },
  {
   "cell_type": "code",
   "execution_count": 5,
   "metadata": {},
   "outputs": [],
   "source": [
    "api_key = 'vXX3C78YxnCgfYvtBFIBF60t9'\n",
    "api_key_secret = 'kZmCl59oszinoDnf3Galj2iLeuPm8aOdGedUze2fOPCgzLbmff'\n",
    "access_token = '875017236079104001-i1rCz2EbqPMKHFUIoGLwIaEG820zKt8'\n",
    "access_token_secret = 'rfY06KqiHhzXSDn9LmfAJOJYJ0doUnMLBWeAAL3ugtjru'"
   ]
  },
  {
   "cell_type": "code",
   "execution_count": 6,
   "metadata": {},
   "outputs": [],
   "source": [
    "auth = tweepy.OAuthHandler(api_key, api_key_secret)\n",
    "auth.set_access_token(access_token, access_token_secret)"
   ]
  },
  {
   "cell_type": "code",
   "execution_count": 7,
   "metadata": {},
   "outputs": [],
   "source": [
    "api = tweepy.API(auth)"
   ]
  },
  {
   "cell_type": "code",
   "execution_count": 8,
   "metadata": {},
   "outputs": [
    {
     "name": "stdout",
     "output_type": "stream",
     "text": [
      "Authentication OK\n"
     ]
    }
   ],
   "source": [
    "try:\n",
    "    api.verify_credentials()\n",
    "    print(\"Authentication OK\")\n",
    "except:\n",
    "    print(\"Error during authentication\")"
   ]
  },
  {
   "cell_type": "code",
   "execution_count": 9,
   "metadata": {},
   "outputs": [],
   "source": [
    "def tweet_preprocessor(text):\n",
    "    # Converting to Lowercase\n",
    "    text = str(text).lower()\n",
    "    # Removing punctuation\n",
    "    text = re.sub(r'[^\\w\\s]', '', text)\n",
    "    # Removing links\n",
    "    text = re.sub(r'http\\S+', '', text)\n",
    "    # Removing stop words\n",
    "    text = remove_stopwords(text)\n",
    "    # Remove Hashtags and Usernames & urls\n",
    "    ' '.join(re.sub(\"(@[A-Za-z0-9]+)|([^0-9A-Za-z \\t])|(\\w+:\\/\\/\\S+)\",\" \",text).split())\n",
    "    return text\n"
   ]
  },
  {
   "cell_type": "code",
   "execution_count": 11,
   "metadata": {},
   "outputs": [
    {
     "name": "stdout",
     "output_type": "stream",
     "text": [
      "1 Ibrahim Abdullah\n",
      "2 Felix Nyaga\n",
      "3 Breaking News\n",
      "4 WatsupAfrica\n",
      "5 WatsupAfrica\n",
      "6 WatsupAfrica\n",
      "7 WatsupAfrica\n",
      "8 Steve Mulupi\n",
      "9 WatsupAfrica\n",
      "10 WatsupAfrica\n",
      "11 #OromoYellowMovement\n",
      "12 #OromoYellowMovement\n",
      "13 Kb Kb\n",
      "14 Breaking News\n",
      "15 Breaking News\n",
      "16 Joe\n",
      "17 deCOALonize Kenya\n",
      "18 Lawrence Kitema\n",
      "19 Jon Sellers\n",
      "20 Breaking News\n",
      "21 Yielder\n",
      "22 Blue Dog\n",
      "23 Ken\n",
      "24 #LandIsNotProperty Mwalimu Wandia\n",
      "25 Bentworth Energy\n",
      "26 Joan Kariuki\n",
      "27 Ayaan Ali\n",
      "28 Wazua\n",
      "29 Boaz Blackie\n",
      "30 Pulse Live Kenya\n",
      "31 ugnews24\n",
      "32 Reporting the News\n",
      "33 Euro Weekly News\n",
      "34 French Chamber Kenya\n",
      "35 Nahashongicheru\n",
      "36 George Aduda\n",
      "37 paul martin\n",
      "38 ugnews24\n",
      "39 BFBS Blandford\n",
      "40 ABM263\n",
      "41 Chris P Ayre\n",
      "42 KenyanTraffic\n",
      "43 Mzalendo\n",
      "44 Nimoh John\n",
      "45 kilisya kaloki\n",
      "46 Fi-marvine\n",
      "47 سكولز السوداءCFA\n",
      "48 zulpha\n",
      "49 Breaking News\n",
      "50 ugnews24\n",
      "51 Daniel Maithya 🇰🇪 🇺🇬 🇿🇦\n",
      "52 Mutie Mumbua\n",
      "53 HON MUNDULEL🇰🇪\n",
      "54 Soyian Cate\n",
      "55 Kenya 🇰🇪 Is Ours\n",
      "56 Abednego Musau MD, MSC, MPH\n",
      "57 Analytica 🇰🇪 ®\n",
      "58 Daniel Maithya 🇰🇪 🇺🇬 🇿🇦\n",
      "59 M.B.S, KOKWET 🇰🇪\n",
      "60 Esimba💪\n",
      "61 Evelyn Tremble\n",
      "62 The SocialGladiator 🇰🇪\n",
      "63 Football Betting Guide\n",
      "64 Manuel\n",
      "65 Charlie\n",
      "66 daniel\n",
      "67 mmnjug™\n",
      "68 Lakicha\n",
      "69 ugnews24\n",
      "70 Kenya2U.Hub\n",
      "71 Breaking News\n",
      "72 Breaking News\n",
      "73 mmnjug™\n"
     ]
    }
   ],
   "source": [
    "all_tweets = []\n",
    "\n",
    "#tweepy.Cursor(api.search, q=\"Kenya News -filter:retweets\", count=100, result_type=\"recent\",\n",
    "#include_entities=True,lang=\"en\").items():\n",
    "    \n",
    "for tweet in tweepy.Cursor(api.search, q=\"Kenya News -filter:retweets\", count=100, result_type=\"recent\",\n",
    "include_entities=True,lang=\"en\", tweet_mode='extended').items(100):\n",
    "    if(tweet.user.verified == False):\n",
    "        frame = []\n",
    "        tweet_id = tweet.id\n",
    "        user = tweet.user.name\n",
    "        name = tweet.full_text\n",
    "        total = str(user) + ' ' + str(name)\n",
    "        total = [tweet_preprocessor(total)]\n",
    "        prediction = pipeline.predict(total)\n",
    "        prediction = prediction.tolist()\n",
    "        prediction = prediction[0]\n",
    "        frame.append([tweet_id, user, name, prediction])\n",
    "        all_tweets.extend(frame)\n",
    "        print(str(len(all_tweets))+' '+user)"
   ]
  },
  {
   "cell_type": "code",
   "execution_count": 32,
   "metadata": {},
   "outputs": [
    {
     "data": {
      "text/plain": [
       "1359029639461675009"
      ]
     },
     "execution_count": 32,
     "metadata": {},
     "output_type": "execute_result"
    }
   ],
   "source": [
    "all_tweets[0][0]"
   ]
  },
  {
   "cell_type": "code",
   "execution_count": 12,
   "metadata": {},
   "outputs": [],
   "source": [
    "predicted_tweets = pd.DataFrame(all_tweets, columns=['id','User', 'Name','Prediction'])"
   ]
  },
  {
   "cell_type": "code",
   "execution_count": 13,
   "metadata": {},
   "outputs": [
    {
     "data": {
      "text/plain": [
       "0.0    47\n",
       "1.0    26\n",
       "Name: Prediction, dtype: int64"
      ]
     },
     "execution_count": 13,
     "metadata": {},
     "output_type": "execute_result"
    }
   ],
   "source": [
    "predicted_tweets['Prediction'].value_counts()"
   ]
  },
  {
   "cell_type": "code",
   "execution_count": 16,
   "metadata": {},
   "outputs": [
    {
     "data": {
      "text/html": [
       "<div>\n",
       "<style scoped>\n",
       "    .dataframe tbody tr th:only-of-type {\n",
       "        vertical-align: middle;\n",
       "    }\n",
       "\n",
       "    .dataframe tbody tr th {\n",
       "        vertical-align: top;\n",
       "    }\n",
       "\n",
       "    .dataframe thead th {\n",
       "        text-align: right;\n",
       "    }\n",
       "</style>\n",
       "<table border=\"1\" class=\"dataframe\">\n",
       "  <thead>\n",
       "    <tr style=\"text-align: right;\">\n",
       "      <th></th>\n",
       "      <th>User</th>\n",
       "      <th>Name</th>\n",
       "      <th>Prediction</th>\n",
       "    </tr>\n",
       "  </thead>\n",
       "  <tbody>\n",
       "    <tr>\n",
       "      <th>0</th>\n",
       "      <td>David Soita Masinde</td>\n",
       "      <td>When did Tangatanga begin to be a representati...</td>\n",
       "      <td>0.0</td>\n",
       "    </tr>\n",
       "    <tr>\n",
       "      <th>1</th>\n",
       "      <td>K</td>\n",
       "      <td>I think you should join Sonko in Kamiti @DCI_K...</td>\n",
       "      <td>1.0</td>\n",
       "    </tr>\n",
       "    <tr>\n",
       "      <th>2</th>\n",
       "      <td>Zeddy</td>\n",
       "      <td>@walubengovich @KenyaAirways @KenyaAirports @C...</td>\n",
       "      <td>0.0</td>\n",
       "    </tr>\n",
       "    <tr>\n",
       "      <th>3</th>\n",
       "      <td>Kenya National Qualifications Authority (KNQA)</td>\n",
       "      <td>2022: How politicians with fake academic paper...</td>\n",
       "      <td>1.0</td>\n",
       "    </tr>\n",
       "    <tr>\n",
       "      <th>4</th>\n",
       "      <td>@abu_the_king</td>\n",
       "      <td>Three things I dislike\\n\\n📌 Fake Manchester un...</td>\n",
       "      <td>1.0</td>\n",
       "    </tr>\n",
       "    <tr>\n",
       "      <th>5</th>\n",
       "      <td>Kenya National Qualifications Authority (KNQA)</td>\n",
       "      <td>What Kenya National Qualifications Authority i...</td>\n",
       "      <td>1.0</td>\n",
       "    </tr>\n",
       "    <tr>\n",
       "      <th>6</th>\n",
       "      <td>MIGUEL</td>\n",
       "      <td>There is so much evidence that Fake President ...</td>\n",
       "      <td>1.0</td>\n",
       "    </tr>\n",
       "    <tr>\n",
       "      <th>7</th>\n",
       "      <td>B. Megerssa እምዬ ኢትዮጵያ ደክሟት ይሆናል እንጂ አልተሸነፈችም</td>\n",
       "      <td>▶️TPLF's fabricated news are being exposed \\n▶...</td>\n",
       "      <td>1.0</td>\n",
       "    </tr>\n",
       "    <tr>\n",
       "      <th>8</th>\n",
       "      <td>Waffy Branx</td>\n",
       "      <td>@AfricaFactsZone You mean Kenya and Nigeria ar...</td>\n",
       "      <td>1.0</td>\n",
       "    </tr>\n",
       "    <tr>\n",
       "      <th>9</th>\n",
       "      <td>Robert Rawinji</td>\n",
       "      <td>@AfricaFactsZone Is corruption in Africa to bl...</td>\n",
       "      <td>1.0</td>\n",
       "    </tr>\n",
       "    <tr>\n",
       "      <th>10</th>\n",
       "      <td>Rob Nuijten</td>\n",
       "      <td>FAKE NEWS from The Guardian.\\nNot from Kenya. ...</td>\n",
       "      <td>1.0</td>\n",
       "    </tr>\n",
       "    <tr>\n",
       "      <th>11</th>\n",
       "      <td>The Big LA'AH 😎✊</td>\n",
       "      <td>Huh! \\n\\nFake news,\\n I don't see Nigeria, Ken...</td>\n",
       "      <td>1.0</td>\n",
       "    </tr>\n",
       "    <tr>\n",
       "      <th>12</th>\n",
       "      <td>Flaviah Gathomi</td>\n",
       "      <td>@AfricaFactsZone why discredit yourselves like...</td>\n",
       "      <td>1.0</td>\n",
       "    </tr>\n",
       "    <tr>\n",
       "      <th>13</th>\n",
       "      <td>Lagaless 🇸🇴</td>\n",
       "      <td>They should audit William Ruto's office too.\\n...</td>\n",
       "      <td>1.0</td>\n",
       "    </tr>\n",
       "    <tr>\n",
       "      <th>14</th>\n",
       "      <td>Bob Angwenyi 🆗️</td>\n",
       "      <td>@AfricaFactsZone @ghettoboy4fun Fake news 🤣🤣🤣i...</td>\n",
       "      <td>1.0</td>\n",
       "    </tr>\n",
       "    <tr>\n",
       "      <th>15</th>\n",
       "      <td>Malcom X</td>\n",
       "      <td>@AfricaFactsZone Where is Kenya in that list o...</td>\n",
       "      <td>1.0</td>\n",
       "    </tr>\n",
       "    <tr>\n",
       "      <th>16</th>\n",
       "      <td>WatsupAfrica</td>\n",
       "      <td>#Kenya: Cops Seize Government Vehicles With Fa...</td>\n",
       "      <td>1.0</td>\n",
       "    </tr>\n",
       "    <tr>\n",
       "      <th>17</th>\n",
       "      <td>WatsupAfrica</td>\n",
       "      <td>#Kenya: Cops Seize Government Vehicles With Fa...</td>\n",
       "      <td>1.0</td>\n",
       "    </tr>\n",
       "    <tr>\n",
       "      <th>18</th>\n",
       "      <td>Jibril</td>\n",
       "      <td>No Kenya or Nigeria  ! This is FAKE NEWS https...</td>\n",
       "      <td>1.0</td>\n",
       "    </tr>\n",
       "    <tr>\n",
       "      <th>19</th>\n",
       "      <td>Dr Aweys Sufi</td>\n",
       "      <td>@samiyalerew @GigiJanaay @M_Farmaajo The first...</td>\n",
       "      <td>0.0</td>\n",
       "    </tr>\n",
       "    <tr>\n",
       "      <th>20</th>\n",
       "      <td>Nation Africa</td>\n",
       "      <td>Politicians with dubious papers will not be cl...</td>\n",
       "      <td>0.0</td>\n",
       "    </tr>\n",
       "    <tr>\n",
       "      <th>21</th>\n",
       "      <td>Mohamed H Yussuf(Mowlanaa))</td>\n",
       "      <td>In Somalia, especially the capital, Mogadishu,...</td>\n",
       "      <td>0.0</td>\n",
       "    </tr>\n",
       "    <tr>\n",
       "      <th>22</th>\n",
       "      <td>Nation Africa</td>\n",
       "      <td>Politicians with dubious papers will not be cl...</td>\n",
       "      <td>0.0</td>\n",
       "    </tr>\n",
       "    <tr>\n",
       "      <th>23</th>\n",
       "      <td>Joe Amisi</td>\n",
       "      <td>2022: How politicians with fake  academic pape...</td>\n",
       "      <td>0.0</td>\n",
       "    </tr>\n",
       "    <tr>\n",
       "      <th>24</th>\n",
       "      <td>TheStarKenya</td>\n",
       "      <td>Commission to partner with Kenya National Qual...</td>\n",
       "      <td>0.0</td>\n",
       "    </tr>\n",
       "    <tr>\n",
       "      <th>25</th>\n",
       "      <td>Felix Nyaga</td>\n",
       "      <td>2022: How politicians with fake  academic pape...</td>\n",
       "      <td>0.0</td>\n",
       "    </tr>\n",
       "    <tr>\n",
       "      <th>26</th>\n",
       "      <td>Dr. Jatani Ungula</td>\n",
       "      <td>2022: How politicians with fake  academic pape...</td>\n",
       "      <td>0.0</td>\n",
       "    </tr>\n",
       "    <tr>\n",
       "      <th>27</th>\n",
       "      <td>TheStarKenya</td>\n",
       "      <td>Commission to partner with Kenya National Qual...</td>\n",
       "      <td>0.0</td>\n",
       "    </tr>\n",
       "    <tr>\n",
       "      <th>28</th>\n",
       "      <td>Nation Africa</td>\n",
       "      <td>2022: How politicians with fake academic paper...</td>\n",
       "      <td>1.0</td>\n",
       "    </tr>\n",
       "    <tr>\n",
       "      <th>29</th>\n",
       "      <td>Kenyans.co.ke</td>\n",
       "      <td>The Kenya National Qualifications Authority (K...</td>\n",
       "      <td>0.0</td>\n",
       "    </tr>\n",
       "    <tr>\n",
       "      <th>30</th>\n",
       "      <td>ugnews24</td>\n",
       "      <td>1 in 3 Kenyans Has Fake Academic Papers – Govt...</td>\n",
       "      <td>1.0</td>\n",
       "    </tr>\n",
       "    <tr>\n",
       "      <th>31</th>\n",
       "      <td>Mihraj Omar</td>\n",
       "      <td>#Ethiopia #Somalia #Eritrea #Ethiopia Don't ma...</td>\n",
       "      <td>1.0</td>\n",
       "    </tr>\n",
       "    <tr>\n",
       "      <th>32</th>\n",
       "      <td>Skilled Rebhara</td>\n",
       "      <td>Here is the truth, choose your vaccine\\n\\nMich...</td>\n",
       "      <td>0.0</td>\n",
       "    </tr>\n",
       "    <tr>\n",
       "      <th>33</th>\n",
       "      <td>ugnews24</td>\n",
       "      <td>Alfred Mutua’s County Vehicles Seized With Fak...</td>\n",
       "      <td>1.0</td>\n",
       "    </tr>\n",
       "    <tr>\n",
       "      <th>34</th>\n",
       "      <td>Atticus West</td>\n",
       "      <td>The Eternal Grift of the Big Lie\\n\\n“The presi...</td>\n",
       "      <td>1.0</td>\n",
       "    </tr>\n",
       "    <tr>\n",
       "      <th>35</th>\n",
       "      <td>Ndokizone IPOB</td>\n",
       "      <td>US Democrats and BBC fake news.  How did Trump...</td>\n",
       "      <td>1.0</td>\n",
       "    </tr>\n",
       "    <tr>\n",
       "      <th>36</th>\n",
       "      <td>Crypto Donkey</td>\n",
       "      <td>@DScamron @BillGates Forced vaccinations shoul...</td>\n",
       "      <td>1.0</td>\n",
       "    </tr>\n",
       "    <tr>\n",
       "      <th>37</th>\n",
       "      <td>Nation Scoops</td>\n",
       "      <td>A Kenyan pilot, Ahmad Nassir Dirie Olow, has b...</td>\n",
       "      <td>1.0</td>\n",
       "    </tr>\n",
       "    <tr>\n",
       "      <th>38</th>\n",
       "      <td>ET Canada</td>\n",
       "      <td>#PorshaWilliams calls out #KenyaMoore’s “fake”...</td>\n",
       "      <td>1.0</td>\n",
       "    </tr>\n",
       "    <tr>\n",
       "      <th>39</th>\n",
       "      <td>BoldAlways</td>\n",
       "      <td>@OleItumbi @verified @honkabogo @KIMANIICHUNGW...</td>\n",
       "      <td>0.0</td>\n",
       "    </tr>\n",
       "  </tbody>\n",
       "</table>\n",
       "</div>"
      ],
      "text/plain": [
       "                                              User  \\\n",
       "0                              David Soita Masinde   \n",
       "1                                                K   \n",
       "2                                            Zeddy   \n",
       "3   Kenya National Qualifications Authority (KNQA)   \n",
       "4                                    @abu_the_king   \n",
       "5   Kenya National Qualifications Authority (KNQA)   \n",
       "6                                           MIGUEL   \n",
       "7     B. Megerssa እምዬ ኢትዮጵያ ደክሟት ይሆናል እንጂ አልተሸነፈችም   \n",
       "8                                      Waffy Branx   \n",
       "9                                   Robert Rawinji   \n",
       "10                                     Rob Nuijten   \n",
       "11                                The Big LA'AH 😎✊   \n",
       "12                                 Flaviah Gathomi   \n",
       "13                                     Lagaless 🇸🇴   \n",
       "14                                 Bob Angwenyi 🆗️   \n",
       "15                                        Malcom X   \n",
       "16                                    WatsupAfrica   \n",
       "17                                    WatsupAfrica   \n",
       "18                                          Jibril   \n",
       "19                                   Dr Aweys Sufi   \n",
       "20                                   Nation Africa   \n",
       "21                     Mohamed H Yussuf(Mowlanaa))   \n",
       "22                                   Nation Africa   \n",
       "23                                       Joe Amisi   \n",
       "24                                    TheStarKenya   \n",
       "25                                     Felix Nyaga   \n",
       "26                               Dr. Jatani Ungula   \n",
       "27                                    TheStarKenya   \n",
       "28                                   Nation Africa   \n",
       "29                                   Kenyans.co.ke   \n",
       "30                                        ugnews24   \n",
       "31                                     Mihraj Omar   \n",
       "32                                 Skilled Rebhara   \n",
       "33                                        ugnews24   \n",
       "34                                    Atticus West   \n",
       "35                                  Ndokizone IPOB   \n",
       "36                                   Crypto Donkey   \n",
       "37                                   Nation Scoops   \n",
       "38                                       ET Canada   \n",
       "39                                      BoldAlways   \n",
       "\n",
       "                                                 Name  Prediction  \n",
       "0   When did Tangatanga begin to be a representati...         0.0  \n",
       "1   I think you should join Sonko in Kamiti @DCI_K...         1.0  \n",
       "2   @walubengovich @KenyaAirways @KenyaAirports @C...         0.0  \n",
       "3   2022: How politicians with fake academic paper...         1.0  \n",
       "4   Three things I dislike\\n\\n📌 Fake Manchester un...         1.0  \n",
       "5   What Kenya National Qualifications Authority i...         1.0  \n",
       "6   There is so much evidence that Fake President ...         1.0  \n",
       "7   ▶️TPLF's fabricated news are being exposed \\n▶...         1.0  \n",
       "8   @AfricaFactsZone You mean Kenya and Nigeria ar...         1.0  \n",
       "9   @AfricaFactsZone Is corruption in Africa to bl...         1.0  \n",
       "10  FAKE NEWS from The Guardian.\\nNot from Kenya. ...         1.0  \n",
       "11  Huh! \\n\\nFake news,\\n I don't see Nigeria, Ken...         1.0  \n",
       "12  @AfricaFactsZone why discredit yourselves like...         1.0  \n",
       "13  They should audit William Ruto's office too.\\n...         1.0  \n",
       "14  @AfricaFactsZone @ghettoboy4fun Fake news 🤣🤣🤣i...         1.0  \n",
       "15  @AfricaFactsZone Where is Kenya in that list o...         1.0  \n",
       "16  #Kenya: Cops Seize Government Vehicles With Fa...         1.0  \n",
       "17  #Kenya: Cops Seize Government Vehicles With Fa...         1.0  \n",
       "18  No Kenya or Nigeria  ! This is FAKE NEWS https...         1.0  \n",
       "19  @samiyalerew @GigiJanaay @M_Farmaajo The first...         0.0  \n",
       "20  Politicians with dubious papers will not be cl...         0.0  \n",
       "21  In Somalia, especially the capital, Mogadishu,...         0.0  \n",
       "22  Politicians with dubious papers will not be cl...         0.0  \n",
       "23  2022: How politicians with fake  academic pape...         0.0  \n",
       "24  Commission to partner with Kenya National Qual...         0.0  \n",
       "25  2022: How politicians with fake  academic pape...         0.0  \n",
       "26  2022: How politicians with fake  academic pape...         0.0  \n",
       "27  Commission to partner with Kenya National Qual...         0.0  \n",
       "28  2022: How politicians with fake academic paper...         1.0  \n",
       "29  The Kenya National Qualifications Authority (K...         0.0  \n",
       "30  1 in 3 Kenyans Has Fake Academic Papers – Govt...         1.0  \n",
       "31  #Ethiopia #Somalia #Eritrea #Ethiopia Don't ma...         1.0  \n",
       "32  Here is the truth, choose your vaccine\\n\\nMich...         0.0  \n",
       "33  Alfred Mutua’s County Vehicles Seized With Fak...         1.0  \n",
       "34  The Eternal Grift of the Big Lie\\n\\n“The presi...         1.0  \n",
       "35  US Democrats and BBC fake news.  How did Trump...         1.0  \n",
       "36  @DScamron @BillGates Forced vaccinations shoul...         1.0  \n",
       "37  A Kenyan pilot, Ahmad Nassir Dirie Olow, has b...         1.0  \n",
       "38  #PorshaWilliams calls out #KenyaMoore’s “fake”...         1.0  \n",
       "39  @OleItumbi @verified @honkabogo @KIMANIICHUNGW...         0.0  "
      ]
     },
     "execution_count": 16,
     "metadata": {},
     "output_type": "execute_result"
    }
   ],
   "source": [
    "predicted_tweets"
   ]
  },
  {
   "cell_type": "code",
   "execution_count": null,
   "metadata": {},
   "outputs": [],
   "source": []
  }
 ],
 "metadata": {
  "kernelspec": {
   "display_name": "Python 3",
   "language": "python",
   "name": "python3"
  },
  "language_info": {
   "codemirror_mode": {
    "name": "ipython",
    "version": 3
   },
   "file_extension": ".py",
   "mimetype": "text/x-python",
   "name": "python",
   "nbconvert_exporter": "python",
   "pygments_lexer": "ipython3",
   "version": "3.8.5"
  }
 },
 "nbformat": 4,
 "nbformat_minor": 4
}
