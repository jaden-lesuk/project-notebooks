{
 "cells": [
  {
   "cell_type": "markdown",
   "metadata": {},
   "source": [
    "# Creating The Model(s)"
   ]
  },
  {
   "cell_type": "markdown",
   "metadata": {},
   "source": [
    "## Importing Libraries"
   ]
  },
  {
   "cell_type": "code",
   "execution_count": 1,
   "metadata": {},
   "outputs": [],
   "source": [
    "# Data Handling\n",
    "import json\n",
    "import pandas as pd\n",
    "import numpy as np\n",
    "\n",
    "# Plotting\n",
    "import matplotlib.pyplot as plt\n",
    "import seaborn as sns\n",
    "\n",
    "# Preprocessing\n",
    "import re\n",
    "import nltk\n",
    "from nltk.stem import WordNetLemmatizer \n",
    "from nltk.stem.snowball import SnowballStemmer\n",
    "from nltk.tokenize import WhitespaceTokenizer\n",
    "from stop_words import get_stop_words\n",
    "\n",
    "#Feature Extraction\n",
    "from sklearn.feature_extraction.text import TfidfVectorizer, CountVectorizer\n",
    "\n",
    "# Modelling\n",
    "from sklearn.linear_model import LogisticRegression, PassiveAggressiveClassifier\n",
    "from sklearn.model_selection import train_test_split\n",
    "from sklearn import naive_bayes, svm\n",
    "\n",
    "# Testing \n",
    "from sklearn.metrics import classification_report\n",
    "\n",
    "# Exporting\n",
    "from sklearn.pipeline import Pipeline\n",
    "import joblib\n",
    "import os"
   ]
  },
  {
   "cell_type": "markdown",
   "metadata": {},
   "source": [
    "## Importing & Inspecting the Datasets"
   ]
  },
  {
   "cell_type": "code",
   "execution_count": 2,
   "metadata": {},
   "outputs": [],
   "source": [
    "starnews_set = pd.read_csv('./kenyan-news/star-news.csv')\n",
    "afpkenya_set = pd.read_csv('./kenyan-news/afp-kenya.csv')\n",
    "pesacheck_set = pd.read_csv('./kenyan-news/pesa-check.csv')\n",
    "realnews_set = pd.read_csv('./kenyan-news/real-news.csv')"
   ]
  },
  {
   "cell_type": "code",
   "execution_count": 3,
   "metadata": {},
   "outputs": [
    {
     "data": {
      "text/html": [
       "<div>\n",
       "<style scoped>\n",
       "    .dataframe tbody tr th:only-of-type {\n",
       "        vertical-align: middle;\n",
       "    }\n",
       "\n",
       "    .dataframe tbody tr th {\n",
       "        vertical-align: top;\n",
       "    }\n",
       "\n",
       "    .dataframe thead th {\n",
       "        text-align: right;\n",
       "    }\n",
       "</style>\n",
       "<table border=\"1\" class=\"dataframe\">\n",
       "  <thead>\n",
       "    <tr style=\"text-align: right;\">\n",
       "      <th></th>\n",
       "      <th>Unnamed: 0</th>\n",
       "      <th>Title</th>\n",
       "      <th>Text</th>\n",
       "      <th>Status</th>\n",
       "    </tr>\n",
       "  </thead>\n",
       "  <tbody>\n",
       "    <tr>\n",
       "      <th>0</th>\n",
       "      <td>0</td>\n",
       "      <td>Does wearing masks for a long period of time r...</td>\n",
       "      <td>Just like wearing a shoe when one leaves their...</td>\n",
       "      <td>PARTLY TRUE</td>\n",
       "    </tr>\n",
       "    <tr>\n",
       "      <th>1</th>\n",
       "      <td>1</td>\n",
       "      <td>Four Std 8 pupils, two teachers have not succu...</td>\n",
       "      <td>Information circulating on social media that f...</td>\n",
       "      <td>FALSE</td>\n",
       "    </tr>\n",
       "    <tr>\n",
       "      <th>2</th>\n",
       "      <td>2</td>\n",
       "      <td>PARTLY TRUE: Safaricom calling for registratio...</td>\n",
       "      <td>A viral WhatsApp message claiming that Safaric...</td>\n",
       "      <td>FACT CHECKER</td>\n",
       "    </tr>\n",
       "    <tr>\n",
       "      <th>3</th>\n",
       "      <td>3</td>\n",
       "      <td>Raila's doctors haven't advised him to take a ...</td>\n",
       "      <td>A Facebook post claiming that ODM leader Raila...</td>\n",
       "      <td>FALSE</td>\n",
       "    </tr>\n",
       "    <tr>\n",
       "      <th>4</th>\n",
       "      <td>4</td>\n",
       "      <td>Photo claiming journalist shot dead during Bob...</td>\n",
       "      <td>A photo that has been circulating on social me...</td>\n",
       "      <td>FALSE</td>\n",
       "    </tr>\n",
       "  </tbody>\n",
       "</table>\n",
       "</div>"
      ],
      "text/plain": [
       "   Unnamed: 0                                              Title  \\\n",
       "0           0  Does wearing masks for a long period of time r...   \n",
       "1           1  Four Std 8 pupils, two teachers have not succu...   \n",
       "2           2  PARTLY TRUE: Safaricom calling for registratio...   \n",
       "3           3  Raila's doctors haven't advised him to take a ...   \n",
       "4           4  Photo claiming journalist shot dead during Bob...   \n",
       "\n",
       "                                                Text        Status  \n",
       "0  Just like wearing a shoe when one leaves their...   PARTLY TRUE  \n",
       "1  Information circulating on social media that f...         FALSE  \n",
       "2  A viral WhatsApp message claiming that Safaric...  FACT CHECKER  \n",
       "3  A Facebook post claiming that ODM leader Raila...         FALSE  \n",
       "4  A photo that has been circulating on social me...         FALSE  "
      ]
     },
     "execution_count": 3,
     "metadata": {},
     "output_type": "execute_result"
    }
   ],
   "source": [
    "starnews_set.head()"
   ]
  },
  {
   "cell_type": "code",
   "execution_count": 4,
   "metadata": {},
   "outputs": [
    {
     "data": {
      "text/html": [
       "<div>\n",
       "<style scoped>\n",
       "    .dataframe tbody tr th:only-of-type {\n",
       "        vertical-align: middle;\n",
       "    }\n",
       "\n",
       "    .dataframe tbody tr th {\n",
       "        vertical-align: top;\n",
       "    }\n",
       "\n",
       "    .dataframe thead th {\n",
       "        text-align: right;\n",
       "    }\n",
       "</style>\n",
       "<table border=\"1\" class=\"dataframe\">\n",
       "  <thead>\n",
       "    <tr style=\"text-align: right;\">\n",
       "      <th></th>\n",
       "      <th>Unnamed: 0</th>\n",
       "      <th>Title</th>\n",
       "      <th>Text</th>\n",
       "      <th>Status</th>\n",
       "    </tr>\n",
       "  </thead>\n",
       "  <tbody>\n",
       "    <tr>\n",
       "      <th>0</th>\n",
       "      <td>0</td>\n",
       "      <td>Fraudulent Facebook posts claim the World Bank...</td>\n",
       "      <td>Facebook posts inviting small business owners ...</td>\n",
       "      <td>1</td>\n",
       "    </tr>\n",
       "    <tr>\n",
       "      <th>1</th>\n",
       "      <td>1</td>\n",
       "      <td>Photos show Honduran migrants trying to enter ...</td>\n",
       "      <td>A post shared dozens of times on Facebook clai...</td>\n",
       "      <td>1</td>\n",
       "    </tr>\n",
       "    <tr>\n",
       "      <th>2</th>\n",
       "      <td>2</td>\n",
       "      <td>These pictures do not show torture scenes of o...</td>\n",
       "      <td>A Facebook post claiming to show images of tor...</td>\n",
       "      <td>1</td>\n",
       "    </tr>\n",
       "    <tr>\n",
       "      <th>3</th>\n",
       "      <td>3</td>\n",
       "      <td>This picture shows Italian performance artist ...</td>\n",
       "      <td>A bogus Facebook post claiming to show a white...</td>\n",
       "      <td>1</td>\n",
       "    </tr>\n",
       "    <tr>\n",
       "      <th>4</th>\n",
       "      <td>4</td>\n",
       "      <td>This video shows a protest in South Africa, no...</td>\n",
       "      <td>A video viewed thousands of times has been sha...</td>\n",
       "      <td>1</td>\n",
       "    </tr>\n",
       "  </tbody>\n",
       "</table>\n",
       "</div>"
      ],
      "text/plain": [
       "   Unnamed: 0                                              Title  \\\n",
       "0           0  Fraudulent Facebook posts claim the World Bank...   \n",
       "1           1  Photos show Honduran migrants trying to enter ...   \n",
       "2           2  These pictures do not show torture scenes of o...   \n",
       "3           3  This picture shows Italian performance artist ...   \n",
       "4           4  This video shows a protest in South Africa, no...   \n",
       "\n",
       "                                                Text  Status  \n",
       "0  Facebook posts inviting small business owners ...       1  \n",
       "1  A post shared dozens of times on Facebook clai...       1  \n",
       "2  A Facebook post claiming to show images of tor...       1  \n",
       "3  A bogus Facebook post claiming to show a white...       1  \n",
       "4  A video viewed thousands of times has been sha...       1  "
      ]
     },
     "execution_count": 4,
     "metadata": {},
     "output_type": "execute_result"
    }
   ],
   "source": [
    "afpkenya_set.head()"
   ]
  },
  {
   "cell_type": "code",
   "execution_count": 5,
   "metadata": {},
   "outputs": [
    {
     "data": {
      "text/html": [
       "<div>\n",
       "<style scoped>\n",
       "    .dataframe tbody tr th:only-of-type {\n",
       "        vertical-align: middle;\n",
       "    }\n",
       "\n",
       "    .dataframe tbody tr th {\n",
       "        vertical-align: top;\n",
       "    }\n",
       "\n",
       "    .dataframe thead th {\n",
       "        text-align: right;\n",
       "    }\n",
       "</style>\n",
       "<table border=\"1\" class=\"dataframe\">\n",
       "  <thead>\n",
       "    <tr style=\"text-align: right;\">\n",
       "      <th></th>\n",
       "      <th>Unnamed: 0</th>\n",
       "      <th>Title</th>\n",
       "      <th>Text</th>\n",
       "      <th>Label</th>\n",
       "    </tr>\n",
       "  </thead>\n",
       "  <tbody>\n",
       "    <tr>\n",
       "      <th>0</th>\n",
       "      <td>0</td>\n",
       "      <td>This tweet of Kenyan businessman Buzeki critic...</td>\n",
       "      <td>A screenshot shared on Facebook claiming to sh...</td>\n",
       "      <td>FALSE:</td>\n",
       "    </tr>\n",
       "    <tr>\n",
       "      <th>1</th>\n",
       "      <td>1</td>\n",
       "      <td>Joyful Women Organization is not taking loan a...</td>\n",
       "      <td>A claim made on Facebook that the Joyful Women...</td>\n",
       "      <td>HOAX:</td>\n",
       "    </tr>\n",
       "    <tr>\n",
       "      <th>2</th>\n",
       "      <td>2</td>\n",
       "      <td>This photo of Kenya’s former Prime Minister, R...</td>\n",
       "      <td>A photo shared on Facebook showing former Prim...</td>\n",
       "      <td>ALTERED:</td>\n",
       "    </tr>\n",
       "    <tr>\n",
       "      <th>3</th>\n",
       "      <td>3</td>\n",
       "      <td>This photo does not show men in Nigerian State...</td>\n",
       "      <td>This tweet with an image published on January ...</td>\n",
       "      <td>FALSE:</td>\n",
       "    </tr>\n",
       "    <tr>\n",
       "      <th>4</th>\n",
       "      <td>4</td>\n",
       "      <td>This advertisement for jobs at Café Javas Ugan...</td>\n",
       "      <td>A Facebook post claiming that Café Javas Ugand...</td>\n",
       "      <td>HOAX:</td>\n",
       "    </tr>\n",
       "  </tbody>\n",
       "</table>\n",
       "</div>"
      ],
      "text/plain": [
       "   Unnamed: 0                                              Title  \\\n",
       "0           0  This tweet of Kenyan businessman Buzeki critic...   \n",
       "1           1  Joyful Women Organization is not taking loan a...   \n",
       "2           2  This photo of Kenya’s former Prime Minister, R...   \n",
       "3           3  This photo does not show men in Nigerian State...   \n",
       "4           4  This advertisement for jobs at Café Javas Ugan...   \n",
       "\n",
       "                                                Text     Label  \n",
       "0  A screenshot shared on Facebook claiming to sh...    FALSE:  \n",
       "1  A claim made on Facebook that the Joyful Women...     HOAX:  \n",
       "2  A photo shared on Facebook showing former Prim...  ALTERED:  \n",
       "3  This tweet with an image published on January ...    FALSE:  \n",
       "4  A Facebook post claiming that Café Javas Ugand...     HOAX:  "
      ]
     },
     "execution_count": 5,
     "metadata": {},
     "output_type": "execute_result"
    }
   ],
   "source": [
    "pesacheck_set.head()"
   ]
  },
  {
   "cell_type": "code",
   "execution_count": 6,
   "metadata": {},
   "outputs": [
    {
     "data": {
      "text/html": [
       "<div>\n",
       "<style scoped>\n",
       "    .dataframe tbody tr th:only-of-type {\n",
       "        vertical-align: middle;\n",
       "    }\n",
       "\n",
       "    .dataframe tbody tr th {\n",
       "        vertical-align: top;\n",
       "    }\n",
       "\n",
       "    .dataframe thead th {\n",
       "        text-align: right;\n",
       "    }\n",
       "</style>\n",
       "<table border=\"1\" class=\"dataframe\">\n",
       "  <thead>\n",
       "    <tr style=\"text-align: right;\">\n",
       "      <th></th>\n",
       "      <th>Unnamed: 0</th>\n",
       "      <th>Title</th>\n",
       "      <th>Text</th>\n",
       "    </tr>\n",
       "  </thead>\n",
       "  <tbody>\n",
       "    <tr>\n",
       "      <th>0</th>\n",
       "      <td>0</td>\n",
       "      <td>Betty Kyalo, Boniface Mwangi, Kipchoge feted i...</td>\n",
       "      <td>Sports personality Eliud Kipchoge, TV personal...</td>\n",
       "    </tr>\n",
       "    <tr>\n",
       "      <th>1</th>\n",
       "      <td>1</td>\n",
       "      <td>Brown bottle: Why overcoming alcoholism is a s...</td>\n",
       "      <td>It's brown, it's colourless, it comes in diffe...</td>\n",
       "    </tr>\n",
       "    <tr>\n",
       "      <th>2</th>\n",
       "      <td>2</td>\n",
       "      <td>Ugandan elections, Mighty Salim and Larry King...</td>\n",
       "      <td>Ugandan Elections and the deaths of renowned ‘...</td>\n",
       "    </tr>\n",
       "    <tr>\n",
       "      <th>3</th>\n",
       "      <td>3</td>\n",
       "      <td>Uhuru leads Kenyans in mourning former ministe...</td>\n",
       "      <td>President Uhuru Kenyatta has joined leaders in...</td>\n",
       "    </tr>\n",
       "    <tr>\n",
       "      <th>4</th>\n",
       "      <td>4</td>\n",
       "      <td>Unrest in schools likely fuelled by drug abuse...</td>\n",
       "      <td>The cases of unrest in schools might be a resu...</td>\n",
       "    </tr>\n",
       "  </tbody>\n",
       "</table>\n",
       "</div>"
      ],
      "text/plain": [
       "   Unnamed: 0                                              Title  \\\n",
       "0           0  Betty Kyalo, Boniface Mwangi, Kipchoge feted i...   \n",
       "1           1  Brown bottle: Why overcoming alcoholism is a s...   \n",
       "2           2  Ugandan elections, Mighty Salim and Larry King...   \n",
       "3           3  Uhuru leads Kenyans in mourning former ministe...   \n",
       "4           4  Unrest in schools likely fuelled by drug abuse...   \n",
       "\n",
       "                                                Text  \n",
       "0  Sports personality Eliud Kipchoge, TV personal...  \n",
       "1  It's brown, it's colourless, it comes in diffe...  \n",
       "2  Ugandan Elections and the deaths of renowned ‘...  \n",
       "3  President Uhuru Kenyatta has joined leaders in...  \n",
       "4  The cases of unrest in schools might be a resu...  "
      ]
     },
     "execution_count": 6,
     "metadata": {},
     "output_type": "execute_result"
    }
   ],
   "source": [
    "realnews_set.head()"
   ]
  },
  {
   "cell_type": "markdown",
   "metadata": {},
   "source": [
    "## Labelling"
   ]
  },
  {
   "cell_type": "markdown",
   "metadata": {},
   "source": [
    "##### Pesa Check"
   ]
  },
  {
   "cell_type": "code",
   "execution_count": 7,
   "metadata": {},
   "outputs": [],
   "source": [
    "pesacheck_set['Tag'] = np.nan"
   ]
  },
  {
   "cell_type": "code",
   "execution_count": 8,
   "metadata": {},
   "outputs": [],
   "source": [
    "pesacheck_set.loc[pesacheck_set.Label == \"TRUE\", \"Tag\"] = 0\n",
    "pesacheck_set.loc[pesacheck_set.Label == \"TRUE:\", \"Tag\"] = 0\n",
    "pesacheck_set.loc[pesacheck_set.Label == \"True:\", \"Tag\"] = 0\n",
    "pesacheck_set.loc[pesacheck_set.Label == \"FACT-CHECKED:\", \"Tag\"] = 0\n",
    "pesacheck_set.loc[pesacheck_set.Label == \"Fact\", \"Tag\"] = 0"
   ]
  },
  {
   "cell_type": "code",
   "execution_count": 9,
   "metadata": {
    "scrolled": true
   },
   "outputs": [
    {
     "data": {
      "text/plain": [
       "165"
      ]
     },
     "execution_count": 9,
     "metadata": {},
     "output_type": "execute_result"
    }
   ],
   "source": [
    "(pesacheck_set['Tag']== 0).sum()"
   ]
  },
  {
   "cell_type": "code",
   "execution_count": 10,
   "metadata": {},
   "outputs": [],
   "source": [
    "pesacheck_set.loc[pesacheck_set['Tag'].isnull(), \"Tag\"] = 1\n",
    "pesacheck_set.loc[pesacheck_set['Text'].isnull(), \"Text\"] = \" \""
   ]
  },
  {
   "cell_type": "code",
   "execution_count": 11,
   "metadata": {
    "scrolled": false
   },
   "outputs": [
    {
     "data": {
      "text/plain": [
       "Unnamed: 0    0\n",
       "Title         0\n",
       "Text          0\n",
       "Label         0\n",
       "Tag           0\n",
       "dtype: int64"
      ]
     },
     "execution_count": 11,
     "metadata": {},
     "output_type": "execute_result"
    }
   ],
   "source": [
    "pesacheck_set.isnull().sum()"
   ]
  },
  {
   "cell_type": "code",
   "execution_count": 12,
   "metadata": {},
   "outputs": [
    {
     "data": {
      "image/png": "[encoded data removed]",
      "text/plain": [
       "<Figure size 432x288 with 1 Axes>"
      ]
     },
     "metadata": {
      "needs_background": "light"
     },
     "output_type": "display_data"
    }
   ],
   "source": [
    "fig, ax = plt.subplots()\n",
    "fig.suptitle(\"Tag\", fontsize=8)\n",
    "pesacheck_set[\"Tag\"].reset_index().groupby(\"Tag\").count().sort_values(by= \"index\").plot(kind=\"barh\", legend=False, ax=ax).grid(axis='x')\n",
    "plt.show()"
   ]
  },
  {
   "cell_type": "code",
   "execution_count": 13,
   "metadata": {},
   "outputs": [
    {
     "data": {
      "text/html": [
       "<div>\n",
       "<style scoped>\n",
       "    .dataframe tbody tr th:only-of-type {\n",
       "        vertical-align: middle;\n",
       "    }\n",
       "\n",
       "    .dataframe tbody tr th {\n",
       "        vertical-align: top;\n",
       "    }\n",
       "\n",
       "    .dataframe thead th {\n",
       "        text-align: right;\n",
       "    }\n",
       "</style>\n",
       "<table border=\"1\" class=\"dataframe\">\n",
       "  <thead>\n",
       "    <tr style=\"text-align: right;\">\n",
       "      <th></th>\n",
       "      <th>Unnamed: 0</th>\n",
       "      <th>Title</th>\n",
       "      <th>Text</th>\n",
       "      <th>Label</th>\n",
       "      <th>Tag</th>\n",
       "    </tr>\n",
       "  </thead>\n",
       "  <tbody>\n",
       "    <tr>\n",
       "      <th>0</th>\n",
       "      <td>0</td>\n",
       "      <td>This tweet of Kenyan businessman Buzeki critic...</td>\n",
       "      <td>A screenshot shared on Facebook claiming to sh...</td>\n",
       "      <td>FALSE:</td>\n",
       "      <td>1.0</td>\n",
       "    </tr>\n",
       "    <tr>\n",
       "      <th>1</th>\n",
       "      <td>1</td>\n",
       "      <td>Joyful Women Organization is not taking loan a...</td>\n",
       "      <td>A claim made on Facebook that the Joyful Women...</td>\n",
       "      <td>HOAX:</td>\n",
       "      <td>1.0</td>\n",
       "    </tr>\n",
       "    <tr>\n",
       "      <th>2</th>\n",
       "      <td>2</td>\n",
       "      <td>This photo of Kenya’s former Prime Minister, R...</td>\n",
       "      <td>A photo shared on Facebook showing former Prim...</td>\n",
       "      <td>ALTERED:</td>\n",
       "      <td>1.0</td>\n",
       "    </tr>\n",
       "    <tr>\n",
       "      <th>3</th>\n",
       "      <td>3</td>\n",
       "      <td>This photo does not show men in Nigerian State...</td>\n",
       "      <td>This tweet with an image published on January ...</td>\n",
       "      <td>FALSE:</td>\n",
       "      <td>1.0</td>\n",
       "    </tr>\n",
       "    <tr>\n",
       "      <th>4</th>\n",
       "      <td>4</td>\n",
       "      <td>This advertisement for jobs at Café Javas Ugan...</td>\n",
       "      <td>A Facebook post claiming that Café Javas Ugand...</td>\n",
       "      <td>HOAX:</td>\n",
       "      <td>1.0</td>\n",
       "    </tr>\n",
       "  </tbody>\n",
       "</table>\n",
       "</div>"
      ],
      "text/plain": [
       "   Unnamed: 0                                              Title  \\\n",
       "0           0  This tweet of Kenyan businessman Buzeki critic...   \n",
       "1           1  Joyful Women Organization is not taking loan a...   \n",
       "2           2  This photo of Kenya’s former Prime Minister, R...   \n",
       "3           3  This photo does not show men in Nigerian State...   \n",
       "4           4  This advertisement for jobs at Café Javas Ugan...   \n",
       "\n",
       "                                                Text     Label  Tag  \n",
       "0  A screenshot shared on Facebook claiming to sh...    FALSE:  1.0  \n",
       "1  A claim made on Facebook that the Joyful Women...     HOAX:  1.0  \n",
       "2  A photo shared on Facebook showing former Prim...  ALTERED:  1.0  \n",
       "3  This tweet with an image published on January ...    FALSE:  1.0  \n",
       "4  A Facebook post claiming that Café Javas Ugand...     HOAX:  1.0  "
      ]
     },
     "execution_count": 13,
     "metadata": {},
     "output_type": "execute_result"
    }
   ],
   "source": [
    "pesacheck_set.head()"
   ]
  },
  {
   "cell_type": "markdown",
   "metadata": {},
   "source": [
    "##### Star News "
   ]
  },
  {
   "cell_type": "code",
   "execution_count": 14,
   "metadata": {},
   "outputs": [
    {
     "data": {
      "text/plain": [
       "Unnamed: 0     0\n",
       "Title          0\n",
       "Text           0\n",
       "Status        20\n",
       "dtype: int64"
      ]
     },
     "execution_count": 14,
     "metadata": {},
     "output_type": "execute_result"
    }
   ],
   "source": [
    "starnews_set.isnull().sum()"
   ]
  },
  {
   "cell_type": "code",
   "execution_count": 15,
   "metadata": {},
   "outputs": [
    {
     "data": {
      "text/plain": [
       "array(['PARTLY TRUE', 'FALSE', 'FACT CHECKER', 'ALTERED', 'FACT CHECK',\n",
       "       'HOAX', 'FAKE', nan, 'FAKE NEWS', 'UNPROVEN',\n",
       "       'NO SCIENTIFIC EVIDENCE', 'MISLEADING', 'FACT-CHECK',\n",
       "       'FAKE ACCOUNT', 'COVID-19 FACT CHECK', 'CORONAVIRUS', 'FALSE!',\n",
       "       'CANCER-LINKS', 'KENYA EXIT', 'LIKONI FERRY TRAGEDY',\n",
       "       'BACK IN ACTION', 'FALSE JOB ADVERTS', 'FALSE AD',\n",
       "       'PERIOD SHAMING', 'ALL SYSTEMS GO', 'VACCINE',\n",
       "       'APPOINTED COMMISSIONER', 'SUSPENSION', 'FALSE JOB ALERT',\n",
       "       'TASTY EXPORT', 'KIBRA DECIDES'], dtype=object)"
      ]
     },
     "execution_count": 15,
     "metadata": {},
     "output_type": "execute_result"
    }
   ],
   "source": [
    "starnews_set.Status.unique()"
   ]
  },
  {
   "cell_type": "code",
   "execution_count": 16,
   "metadata": {},
   "outputs": [],
   "source": [
    "starnews_set['Tag'] = np.nan"
   ]
  },
  {
   "cell_type": "code",
   "execution_count": 17,
   "metadata": {},
   "outputs": [],
   "source": [
    "starnews_set.loc[starnews_set['Status'].isnull(), \"Status\"] = \" \""
   ]
  },
  {
   "cell_type": "code",
   "execution_count": 18,
   "metadata": {},
   "outputs": [],
   "source": [
    "# UNPROVEN BACK IN ACTION ALL SYSTEMS GO\n",
    "# APPOINTED COMMISSIONER KIBRA DECIDES TASTY EXPORT\n",
    "starnews_set.loc[starnews_set.Status.str.startswith('ALL'), \"Tag\"] = 0\n",
    "starnews_set.loc[starnews_set.Status.str.startswith('UNPROV'), \"Tag\"] = 0\n",
    "starnews_set.loc[starnews_set.Status.str.startswith('BACK'), \"Tag\"] = 0\n",
    "starnews_set.loc[starnews_set.Status.str.startswith('APPOI'), \"Tag\"] = 0\n",
    "starnews_set.loc[starnews_set.Status.str.startswith('KIBR'), \"Tag\"] = 0\n",
    "starnews_set.loc[starnews_set.Status.str.startswith('TAST'), \"Tag\"] = 0"
   ]
  },
  {
   "cell_type": "code",
   "execution_count": 19,
   "metadata": {},
   "outputs": [
    {
     "data": {
      "text/plain": [
       "6"
      ]
     },
     "execution_count": 19,
     "metadata": {},
     "output_type": "execute_result"
    }
   ],
   "source": [
    "(starnews_set['Tag']== 0).sum()"
   ]
  },
  {
   "cell_type": "code",
   "execution_count": 20,
   "metadata": {},
   "outputs": [],
   "source": [
    "starnews_set.loc[starnews_set['Tag'].isnull(), \"Tag\"] = 1"
   ]
  },
  {
   "cell_type": "markdown",
   "metadata": {},
   "source": [
    "###### AFP Kenya"
   ]
  },
  {
   "cell_type": "code",
   "execution_count": 21,
   "metadata": {},
   "outputs": [],
   "source": [
    "afpkenya_set['Tag'] = np.nan\n",
    "afpkenya_set.loc[afpkenya_set['Tag'].isnull(), \"Tag\"] = 1"
   ]
  },
  {
   "cell_type": "markdown",
   "metadata": {},
   "source": [
    "##### Real News"
   ]
  },
  {
   "cell_type": "code",
   "execution_count": 22,
   "metadata": {},
   "outputs": [
    {
     "data": {
      "text/plain": [
       "Unnamed: 0    0\n",
       "Title         0\n",
       "Text          0\n",
       "dtype: int64"
      ]
     },
     "execution_count": 22,
     "metadata": {},
     "output_type": "execute_result"
    }
   ],
   "source": [
    "realnews_set.isnull().sum()"
   ]
  },
  {
   "cell_type": "code",
   "execution_count": 23,
   "metadata": {},
   "outputs": [],
   "source": [
    "realnews_set['Tag'] = np.nan\n",
    "realnews_set.loc[realnews_set['Tag'].isnull(), \"Tag\"] = 0"
   ]
  },
  {
   "cell_type": "markdown",
   "metadata": {},
   "source": [
    "### Combining the Data"
   ]
  },
  {
   "cell_type": "code",
   "execution_count": 24,
   "metadata": {},
   "outputs": [],
   "source": [
    "pesacheck_set.rename(columns={'Label':'Status'}, inplace=True)"
   ]
  },
  {
   "cell_type": "code",
   "execution_count": 25,
   "metadata": {},
   "outputs": [],
   "source": [
    "all_data = pd.concat([afpkenya_set, pesacheck_set, starnews_set, realnews_set])"
   ]
  },
  {
   "cell_type": "code",
   "execution_count": 26,
   "metadata": {
    "scrolled": true
   },
   "outputs": [
    {
     "data": {
      "text/plain": [
       "2005"
      ]
     },
     "execution_count": 26,
     "metadata": {},
     "output_type": "execute_result"
    }
   ],
   "source": [
    "all_data.shape[0]"
   ]
  },
  {
   "cell_type": "code",
   "execution_count": 27,
   "metadata": {},
   "outputs": [
    {
     "data": {
      "text/plain": [
       "1007"
      ]
     },
     "execution_count": 27,
     "metadata": {},
     "output_type": "execute_result"
    }
   ],
   "source": [
    "(all_data['Tag']== 0).sum()"
   ]
  },
  {
   "cell_type": "code",
   "execution_count": 28,
   "metadata": {},
   "outputs": [
    {
     "data": {
      "image/png": "[encoded data removed]",
      "text/plain": [
       "<Figure size 432x288 with 1 Axes>"
      ]
     },
     "metadata": {
      "needs_background": "light"
     },
     "output_type": "display_data"
    }
   ],
   "source": [
    "fig, ax = plt.subplots()\n",
    "fig.suptitle(\"Tag\", fontsize=8)\n",
    "all_data[\"Tag\"].reset_index().groupby(\"Tag\").count().sort_values(by= \"index\").plot(kind=\"barh\", legend=False, ax=ax).grid(axis='x')\n",
    "plt.show()"
   ]
  },
  {
   "cell_type": "code",
   "execution_count": 29,
   "metadata": {},
   "outputs": [],
   "source": [
    "all_data['Total'] = all_data['Title'] + all_data['Text']"
   ]
  },
  {
   "cell_type": "markdown",
   "metadata": {},
   "source": [
    "## Preprocessing"
   ]
  },
  {
   "cell_type": "markdown",
   "metadata": {},
   "source": [
    "##### Converting to Lower Case"
   ]
  },
  {
   "cell_type": "code",
   "execution_count": 30,
   "metadata": {
    "scrolled": true
   },
   "outputs": [],
   "source": [
    "all_data.loc[:,\"Total\"] = all_data.Total.apply(lambda x : str.lower(x))"
   ]
  },
  {
   "cell_type": "code",
   "execution_count": 31,
   "metadata": {},
   "outputs": [
    {
     "data": {
      "text/plain": [
       "0      fraudulent facebook posts claim the world bank...\n",
       "1      photos show honduran migrants trying to enter ...\n",
       "2      these pictures do not show torture scenes of o...\n",
       "3      this picture shows italian performance artist ...\n",
       "4      this video shows a protest in south africa, no...\n",
       "                             ...                        \n",
       "831    senators want law to guide trial of impeached ...\n",
       "832    state mulls flights restriction over new virus...\n",
       "833    gideon: a big 'bullet' coalition in the offing...\n",
       "834    agency that purged quacks keen to improve heal...\n",
       "835    hospitals to be rated based on quality of care...\n",
       "Name: Total, Length: 2005, dtype: object"
      ]
     },
     "execution_count": 31,
     "metadata": {},
     "output_type": "execute_result"
    }
   ],
   "source": [
    "all_data.Total"
   ]
  },
  {
   "cell_type": "markdown",
   "metadata": {},
   "source": [
    "##### Removing punctutations and numbers"
   ]
  },
  {
   "cell_type": "code",
   "execution_count": 32,
   "metadata": {},
   "outputs": [],
   "source": [
    "all_data.loc[:,\"Total\"] = all_data.Total.apply(lambda x : \" \".join(re.findall('[\\w]+',x)))"
   ]
  },
  {
   "cell_type": "code",
   "execution_count": 33,
   "metadata": {},
   "outputs": [
    {
     "data": {
      "text/plain": [
       "0      fraudulent facebook posts claim the world bank...\n",
       "1      photos show honduran migrants trying to enter ...\n",
       "2      these pictures do not show torture scenes of o...\n",
       "3      this picture shows italian performance artist ...\n",
       "4      this video shows a protest in south africa not...\n",
       "                             ...                        \n",
       "831    senators want law to guide trial of impeached ...\n",
       "832    state mulls flights restriction over new virus...\n",
       "833    gideon a big bullet coalition in the offingkan...\n",
       "834    agency that purged quacks keen to improve heal...\n",
       "835    hospitals to be rated based on quality of care...\n",
       "Name: Total, Length: 2005, dtype: object"
      ]
     },
     "execution_count": 33,
     "metadata": {},
     "output_type": "execute_result"
    }
   ],
   "source": [
    "all_data.Total"
   ]
  },
  {
   "cell_type": "markdown",
   "metadata": {},
   "source": [
    "##### Removing website links"
   ]
  },
  {
   "cell_type": "code",
   "execution_count": 34,
   "metadata": {},
   "outputs": [],
   "source": [
    "all_data.loc[:,\"Total\"] = all_data.Total.apply(lambda x : \"\".join(re.sub(r'http\\S+', '', x)))"
   ]
  },
  {
   "cell_type": "code",
   "execution_count": 35,
   "metadata": {},
   "outputs": [
    {
     "data": {
      "text/plain": [
       "0      fraudulent facebook posts claim the world bank...\n",
       "1      photos show honduran migrants trying to enter ...\n",
       "2      these pictures do not show torture scenes of o...\n",
       "3      this picture shows italian performance artist ...\n",
       "4      this video shows a protest in south africa not...\n",
       "                             ...                        \n",
       "831    senators want law to guide trial of impeached ...\n",
       "832    state mulls flights restriction over new virus...\n",
       "833    gideon a big bullet coalition in the offingkan...\n",
       "834    agency that purged quacks keen to improve heal...\n",
       "835    hospitals to be rated based on quality of care...\n",
       "Name: Total, Length: 2005, dtype: object"
      ]
     },
     "execution_count": 35,
     "metadata": {},
     "output_type": "execute_result"
    }
   ],
   "source": [
    "all_data.Total"
   ]
  },
  {
   "cell_type": "markdown",
   "metadata": {},
   "source": [
    "##### Removing stopwords"
   ]
  },
  {
   "cell_type": "code",
   "execution_count": 36,
   "metadata": {},
   "outputs": [],
   "source": [
    "stop_words = get_stop_words('en')\n",
    "\n",
    "def remove_stopWords(s):\n",
    "    s = ' '.join(word for word in s.split() if word not in stop_words)\n",
    "    return s\n",
    "\n",
    "all_data.loc[:,\"Total\"] = all_data.Total.apply(lambda x: remove_stopWords(x))"
   ]
  },
  {
   "cell_type": "code",
   "execution_count": 37,
   "metadata": {},
   "outputs": [
    {
     "data": {
      "text/plain": [
       "0      fraudulent facebook posts claim world bank giv...\n",
       "1      photos show honduran migrants trying enter gua...\n",
       "2      pictures show torture scenes opposition suppor...\n",
       "3      picture shows italian performance artist vanes...\n",
       "4      video shows protest south africa bobi wine sup...\n",
       "                             ...                        \n",
       "831    senators want law guide trial impeached govern...\n",
       "832    state mulls flights restriction new virus stra...\n",
       "833    gideon big bullet coalition offingkanu chairma...\n",
       "834    agency purged quacks keen improve healthcareit...\n",
       "835    hospitals rated based quality carethe governme...\n",
       "Name: Total, Length: 2005, dtype: object"
      ]
     },
     "execution_count": 37,
     "metadata": {},
     "output_type": "execute_result"
    }
   ],
   "source": [
    "all_data.Total"
   ]
  },
  {
   "cell_type": "markdown",
   "metadata": {},
   "source": [
    "##### Lemmatizing the Text"
   ]
  },
  {
   "cell_type": "code",
   "execution_count": 38,
   "metadata": {},
   "outputs": [],
   "source": [
    "lemmatizer = WordNetLemmatizer()\n",
    "\n",
    "\n",
    "def lemmatize_text(text):\n",
    "    text = text.split()\n",
    "    lemmatized_string = ' '.join([lemmatizer.lemmatize(word) for word in text])\n",
    "    return lemmatized_string\n",
    "\n",
    "\n",
    "all_data.loc[:,\"Total\"] = all_data.Total.apply(lemmatize_text)"
   ]
  },
  {
   "cell_type": "code",
   "execution_count": 39,
   "metadata": {},
   "outputs": [
    {
     "data": {
      "text/plain": [
       "0      fraudulent facebook post claim world bank givi...\n",
       "1      photo show honduran migrant trying enter guate...\n",
       "2      picture show torture scene opposition supporte...\n",
       "3      picture show italian performance artist vaness...\n",
       "4      video show protest south africa bobi wine supp...\n",
       "                             ...                        \n",
       "831    senator want law guide trial impeached governo...\n",
       "832    state mull flight restriction new virus strain...\n",
       "833    gideon big bullet coalition offingkanu chairma...\n",
       "834    agency purged quack keen improve healthcareit ...\n",
       "835    hospital rated based quality carethe governmen...\n",
       "Name: Total, Length: 2005, dtype: object"
      ]
     },
     "execution_count": 39,
     "metadata": {},
     "output_type": "execute_result"
    }
   ],
   "source": [
    "all_data.Total"
   ]
  },
  {
   "cell_type": "code",
   "execution_count": 40,
   "metadata": {},
   "outputs": [],
   "source": [
    "# Exporting the preprocessed data\n",
    "\n",
    "path = '/home/jaden/Development/Notebooks/kenyan-news'\n",
    "all_data.to_csv(os.path.join(path,r'all-news.csv'))"
   ]
  },
  {
   "cell_type": "markdown",
   "metadata": {},
   "source": [
    "## Feature Extraction"
   ]
  },
  {
   "cell_type": "code",
   "execution_count": 41,
   "metadata": {},
   "outputs": [],
   "source": [
    "x_train, x_test, y_train, y_test = train_test_split(all_data['Total'], all_data['Tag'], test_size=0.20, random_state=0)"
   ]
  },
  {
   "cell_type": "code",
   "execution_count": 42,
   "metadata": {},
   "outputs": [],
   "source": [
    "tfidf_unigram = TfidfVectorizer(ngram_range=(1, 1))\n",
    "tfidf_bigram = TfidfVectorizer(ngram_range=(2, 2))\n",
    "tfidf_trigram = TfidfVectorizer(ngram_range=(3, 3))"
   ]
  },
  {
   "cell_type": "code",
   "execution_count": 43,
   "metadata": {},
   "outputs": [],
   "source": [
    "#Unigram\n",
    "tftrain_uni = tfidf_unigram.fit_transform(x_train)\n",
    "tftest_uni = tfidf_unigram.transform(x_test)\n",
    "\n",
    "#Bigram\n",
    "tftrain_bi = tfidf_bigram.fit_transform(x_train)\n",
    "tftest_bi = tfidf_bigram.transform(x_test)\n",
    "\n",
    "#Trigram\n",
    "tftrain_tri = tfidf_trigram.fit_transform(x_train)\n",
    "tftest_tri = tfidf_trigram.transform(x_test)"
   ]
  },
  {
   "cell_type": "code",
   "execution_count": 53,
   "metadata": {},
   "outputs": [],
   "source": [
    "count_unigram = CountVectorizer(ngram_range=(1, 1))\n",
    "count_bigram = CountVectorizer(ngram_range=(2, 2))\n",
    "count_trigram = CountVectorizer(ngram_range=(3, 3))"
   ]
  },
  {
   "cell_type": "code",
   "execution_count": 55,
   "metadata": {},
   "outputs": [],
   "source": [
    "#Unigram\n",
    "cntrain_uni = count_unigram.fit_transform(x_train)\n",
    "cntest_uni = count_unigram.transform(x_test)\n",
    "\n",
    "#Bigram\n",
    "cntrain_bi = count_bigram.fit_transform(x_train)\n",
    "cntest_bi = count_bigram.transform(x_test)\n",
    "\n",
    "#Trigram\n",
    "cntrain_tri = count_trigram.fit_transform(x_train)\n",
    "cntest_tri = count_trigram.transform(x_test)"
   ]
  },
  {
   "cell_type": "markdown",
   "metadata": {},
   "source": [
    "## Training & Testing the Model(s)"
   ]
  },
  {
   "cell_type": "markdown",
   "metadata": {},
   "source": [
    "### Multinomial Naive Bayes"
   ]
  },
  {
   "cell_type": "markdown",
   "metadata": {},
   "source": [
    "##### Training Multinomial Bayes"
   ]
  },
  {
   "cell_type": "code",
   "execution_count": 64,
   "metadata": {},
   "outputs": [
    {
     "data": {
      "text/plain": [
       "MultinomialNB()"
      ]
     },
     "execution_count": 64,
     "metadata": {},
     "output_type": "execute_result"
    }
   ],
   "source": [
    "naive_tf = naive_bayes.MultinomialNB()\n",
    "naive_tf.fit(tftrain_tri, y_train)\n",
    "\n",
    "naive_cn = naive_bayes.MultinomialNB()\n",
    "naive_cn.fit(cntrain_tri, y_train)"
   ]
  },
  {
   "cell_type": "markdown",
   "metadata": {},
   "source": [
    "##### Testing Multinomial Bayes"
   ]
  },
  {
   "cell_type": "code",
   "execution_count": 65,
   "metadata": {
    "collapsed": true
   },
   "outputs": [
    {
     "name": "stdout",
     "output_type": "stream",
     "text": [
      "              precision    recall  f1-score   support\n",
      "\n",
      "         0.0       0.98      0.74      0.85       200\n",
      "         1.0       0.80      0.99      0.88       201\n",
      "\n",
      "    accuracy                           0.87       401\n",
      "   macro avg       0.89      0.87      0.86       401\n",
      "weighted avg       0.89      0.87      0.86       401\n",
      "\n"
     ]
    }
   ],
   "source": [
    "predict_naive_tf = naive_tf.predict(tftest_tri)\n",
    "print(classification_report(y_test, predict_naive_tf))"
   ]
  },
  {
   "cell_type": "code",
   "execution_count": 66,
   "metadata": {
    "collapsed": true
   },
   "outputs": [
    {
     "name": "stdout",
     "output_type": "stream",
     "text": [
      "              precision    recall  f1-score   support\n",
      "\n",
      "         0.0       0.99      0.78      0.87       200\n",
      "         1.0       0.82      0.99      0.90       201\n",
      "\n",
      "    accuracy                           0.89       401\n",
      "   macro avg       0.90      0.89      0.88       401\n",
      "weighted avg       0.90      0.89      0.88       401\n",
      "\n"
     ]
    }
   ],
   "source": [
    "predict_naive_cn = naive_cn.predict(cntest_tri)\n",
    "print(classification_report(y_test, predict_naive_cn))"
   ]
  },
  {
   "cell_type": "markdown",
   "metadata": {},
   "source": [
    "### Logistic Regression"
   ]
  },
  {
   "cell_type": "markdown",
   "metadata": {},
   "source": [
    "##### Training Logistic Regression"
   ]
  },
  {
   "cell_type": "code",
   "execution_count": 84,
   "metadata": {
    "scrolled": true
   },
   "outputs": [
    {
     "data": {
      "text/plain": [
       "LogisticRegression(C=100000.0, max_iter=500)"
      ]
     },
     "execution_count": 84,
     "metadata": {},
     "output_type": "execute_result"
    }
   ],
   "source": [
    "logreg_tf = LogisticRegression(C = 1e5, max_iter = 500)\n",
    "logreg_tf.fit(tftrain_tri, y_train)"
   ]
  },
  {
   "cell_type": "code",
   "execution_count": 87,
   "metadata": {},
   "outputs": [
    {
     "data": {
      "text/plain": [
       "LogisticRegression(C=100000.0, max_iter=2000)"
      ]
     },
     "execution_count": 87,
     "metadata": {},
     "output_type": "execute_result"
    }
   ],
   "source": [
    "logreg_cn = LogisticRegression(C = 1e5, max_iter = 2000)\n",
    "logreg_cn.fit(cntrain_tri, y_train)"
   ]
  },
  {
   "cell_type": "markdown",
   "metadata": {},
   "source": [
    "##### Testing Logistic Regression"
   ]
  },
  {
   "cell_type": "code",
   "execution_count": 88,
   "metadata": {},
   "outputs": [
    {
     "name": "stdout",
     "output_type": "stream",
     "text": [
      "              precision    recall  f1-score   support\n",
      "\n",
      "         0.0       0.76      0.74      0.75       200\n",
      "         1.0       0.75      0.77      0.76       201\n",
      "\n",
      "    accuracy                           0.75       401\n",
      "   macro avg       0.75      0.75      0.75       401\n",
      "weighted avg       0.75      0.75      0.75       401\n",
      "\n"
     ]
    }
   ],
   "source": [
    "predict_logreg_tf = logreg_tf.predict(tftest_tri)\n",
    "print(classification_report(y_test, predict_logreg_tf))"
   ]
  },
  {
   "cell_type": "code",
   "execution_count": 90,
   "metadata": {},
   "outputs": [
    {
     "name": "stdout",
     "output_type": "stream",
     "text": [
      "              precision    recall  f1-score   support\n",
      "\n",
      "         0.0       0.67      0.41      0.51       200\n",
      "         1.0       0.58      0.80      0.67       201\n",
      "\n",
      "    accuracy                           0.61       401\n",
      "   macro avg       0.62      0.61      0.59       401\n",
      "weighted avg       0.62      0.61      0.59       401\n",
      "\n"
     ]
    }
   ],
   "source": [
    "predict_logreg_cn = logreg_cn.predict(cntest_tri)\n",
    "print(classification_report(y_test, predict_logreg_cn))"
   ]
  },
  {
   "cell_type": "markdown",
   "metadata": {},
   "source": [
    "### Passive Agressive"
   ]
  },
  {
   "cell_type": "markdown",
   "metadata": {},
   "source": [
    "##### Training Passive Agressive"
   ]
  },
  {
   "cell_type": "code",
   "execution_count": 46,
   "metadata": {},
   "outputs": [
    {
     "data": {
      "text/plain": [
       "PassiveAggressiveClassifier()"
      ]
     },
     "execution_count": 46,
     "metadata": {},
     "output_type": "execute_result"
    }
   ],
   "source": [
    "passagg_tf = PassiveAggressiveClassifier()\n",
    "passagg_tf.fit(tftrain_bi, y_train)"
   ]
  },
  {
   "cell_type": "code",
   "execution_count": 101,
   "metadata": {},
   "outputs": [
    {
     "data": {
      "text/plain": [
       "PassiveAggressiveClassifier()"
      ]
     },
     "execution_count": 101,
     "metadata": {},
     "output_type": "execute_result"
    }
   ],
   "source": [
    "passagg_cn = PassiveAggressiveClassifier()\n",
    "passagg_cn.fit(cntrain_tri, y_train)"
   ]
  },
  {
   "cell_type": "markdown",
   "metadata": {},
   "source": [
    "##### Testing Passive Agressive"
   ]
  },
  {
   "cell_type": "code",
   "execution_count": 47,
   "metadata": {},
   "outputs": [
    {
     "name": "stdout",
     "output_type": "stream",
     "text": [
      "              precision    recall  f1-score   support\n",
      "\n",
      "         0.0       0.95      0.89      0.92       200\n",
      "         1.0       0.90      0.96      0.93       201\n",
      "\n",
      "    accuracy                           0.92       401\n",
      "   macro avg       0.92      0.92      0.92       401\n",
      "weighted avg       0.92      0.92      0.92       401\n",
      "\n"
     ]
    }
   ],
   "source": [
    "predict_passagg_tf = passagg_tf.predict(tftest_bi)\n",
    "print(classification_report(y_test, predict_passagg_tf))"
   ]
  },
  {
   "cell_type": "code",
   "execution_count": 102,
   "metadata": {},
   "outputs": [
    {
     "name": "stdout",
     "output_type": "stream",
     "text": [
      "              precision    recall  f1-score   support\n",
      "\n",
      "         0.0       0.93      0.88      0.90       200\n",
      "         1.0       0.88      0.94      0.91       201\n",
      "\n",
      "    accuracy                           0.91       401\n",
      "   macro avg       0.91      0.91      0.91       401\n",
      "weighted avg       0.91      0.91      0.91       401\n",
      "\n"
     ]
    }
   ],
   "source": [
    "predict_passagg_cn = passagg_cn.predict(tftest_tri)\n",
    "print(classification_report(y_test, predict_passagg_cn))"
   ]
  },
  {
   "cell_type": "markdown",
   "metadata": {},
   "source": [
    "### SVM Model"
   ]
  },
  {
   "cell_type": "markdown",
   "metadata": {},
   "source": [
    "##### Training SVM model"
   ]
  },
  {
   "cell_type": "code",
   "execution_count": 111,
   "metadata": {},
   "outputs": [
    {
     "data": {
      "text/plain": [
       "SVC(kernel='linear')"
      ]
     },
     "execution_count": 111,
     "metadata": {},
     "output_type": "execute_result"
    }
   ],
   "source": [
    "svm_tf = svm.SVC(kernel = \"linear\")\n",
    "svm_tf.fit(tftrain_tri, y_train)"
   ]
  },
  {
   "cell_type": "code",
   "execution_count": 112,
   "metadata": {},
   "outputs": [
    {
     "data": {
      "text/plain": [
       "SVC(kernel='linear')"
      ]
     },
     "execution_count": 112,
     "metadata": {},
     "output_type": "execute_result"
    }
   ],
   "source": [
    "svm_cn = svm.SVC(kernel = \"linear\")\n",
    "svm_cn.fit(cntrain_tri, y_train)"
   ]
  },
  {
   "cell_type": "markdown",
   "metadata": {},
   "source": [
    "##### Testing SVM model"
   ]
  },
  {
   "cell_type": "code",
   "execution_count": 113,
   "metadata": {},
   "outputs": [
    {
     "name": "stdout",
     "output_type": "stream",
     "text": [
      "              precision    recall  f1-score   support\n",
      "\n",
      "         0.0       0.94      0.84      0.89       200\n",
      "         1.0       0.86      0.95      0.90       201\n",
      "\n",
      "    accuracy                           0.90       401\n",
      "   macro avg       0.90      0.90      0.90       401\n",
      "weighted avg       0.90      0.90      0.90       401\n",
      "\n"
     ]
    }
   ],
   "source": [
    "predict_svm_tf = svm_tf.predict(tftest_tri)\n",
    "print(classification_report(y_test, predict_svm_tf))"
   ]
  },
  {
   "cell_type": "code",
   "execution_count": 114,
   "metadata": {},
   "outputs": [
    {
     "name": "stdout",
     "output_type": "stream",
     "text": [
      "              precision    recall  f1-score   support\n",
      "\n",
      "         0.0       0.89      0.70      0.78       200\n",
      "         1.0       0.75      0.91      0.82       201\n",
      "\n",
      "    accuracy                           0.81       401\n",
      "   macro avg       0.82      0.81      0.80       401\n",
      "weighted avg       0.82      0.81      0.80       401\n",
      "\n"
     ]
    }
   ],
   "source": [
    "predict_svm_cn = svm_cn.predict(cntest_tri)\n",
    "print(classification_report(y_test, predict_svm_cn))"
   ]
  },
  {
   "cell_type": "markdown",
   "metadata": {},
   "source": [
    "## Pipeline"
   ]
  },
  {
   "cell_type": "code",
   "execution_count": 48,
   "metadata": {},
   "outputs": [],
   "source": [
    "pipeline = Pipeline([\n",
    "    ('tfidf', TfidfVectorizer(ngram_range=(1, 1))),\n",
    "    ('passagg', PassiveAggressiveClassifier()),\n",
    "])"
   ]
  },
  {
   "cell_type": "code",
   "execution_count": 49,
   "metadata": {},
   "outputs": [
    {
     "data": {
      "text/plain": [
       "Pipeline(steps=[('tfidf', TfidfVectorizer()),\n",
       "                ('passagg', PassiveAggressiveClassifier())])"
      ]
     },
     "execution_count": 49,
     "metadata": {},
     "output_type": "execute_result"
    }
   ],
   "source": [
    "pipeline.fit(x_train, y_train)"
   ]
  },
  {
   "cell_type": "code",
   "execution_count": 50,
   "metadata": {},
   "outputs": [
    {
     "data": {
      "text/plain": [
       "['tf_passagg.sav']"
      ]
     },
     "execution_count": 50,
     "metadata": {},
     "output_type": "execute_result"
    }
   ],
   "source": [
    "filename = 'tf_passagg.sav'\n",
    "joblib.dump(pipeline, filename)"
   ]
  },
  {
   "cell_type": "code",
   "execution_count": null,
   "metadata": {},
   "outputs": [],
   "source": []
  }
 ],
 "metadata": {
  "kernelspec": {
   "display_name": "Python 3",
   "language": "python",
   "name": "python3"
  },
  "language_info": {
   "codemirror_mode": {
    "name": "ipython",
    "version": 3
   },
   "file_extension": ".py",
   "mimetype": "text/x-python",
   "name": "python",
   "nbconvert_exporter": "python",
   "pygments_lexer": "ipython3",
   "version": "3.8.5"
  }
 },
 "nbformat": 4,
 "nbformat_minor": 4
}
